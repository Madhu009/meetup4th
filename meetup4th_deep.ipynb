{
 "cells": [
  {
   "cell_type": "markdown",
   "metadata": {},
   "source": [
    "# Regularization "
   ]
  },
  {
   "cell_type": "code",
   "execution_count": 1,
   "metadata": {},
   "outputs": [],
   "source": [
    "%matplotlib inline\n",
    "\n",
    "from sklearn.datasets.samples_generator import make_blobs\n",
    "import numpy as np\n",
    "np.random.seed(6)\n",
    "import matplotlib.pyplot as plt\n",
    "\n",
    "import torch\n",
    "import torch.nn.functional as F\n",
    "\n",
    "import math"
   ]
  },
  {
   "cell_type": "code",
   "execution_count": 2,
   "metadata": {},
   "outputs": [
    {
     "data": {
      "text/plain": [
       "device(type='cpu')"
      ]
     },
     "execution_count": 2,
     "metadata": {},
     "output_type": "execute_result"
    }
   ],
   "source": [
    "LAMBDA = 2\n",
    "device = torch.device('cuda:0' if torch.cuda.is_available() else 'cpu')\n",
    "device"
   ]
  },
  {
   "cell_type": "code",
   "execution_count": 3,
   "metadata": {},
   "outputs": [
    {
     "data": {
      "image/png": "[encoded data removed]",
      "text/plain": [
       "<Figure size 432x288 with 1 Axes>"
      ]
     },
     "metadata": {
      "needs_background": "light"
     },
     "output_type": "display_data"
    }
   ],
   "source": [
    "(X,y) =  make_blobs(n_samples=100,n_features=2,centers=2,cluster_std=2.05,random_state=20)\n",
    "plt.scatter(X[:,0],X[:,1],marker='o',c=y)\n",
    "plt.show()"
   ]
  },
  {
   "cell_type": "code",
   "execution_count": 4,
   "metadata": {},
   "outputs": [],
   "source": [
    "X = torch.tensor(X, dtype=torch.float32, device=device)\n",
    "y = torch.tensor(y, dtype=torch.float32, device=device).view(-1, 1)"
   ]
  },
  {
   "cell_type": "code",
   "execution_count": 5,
   "metadata": {},
   "outputs": [],
   "source": [
    "def book_keeping(model,epoch,cost):\n",
    "    \n",
    "    logits = model(X)\n",
    "    predicted = (logits > 0.5).float().view(-1)\n",
    "    acc = torch.sum(predicted == y.view(-1)).float() / 100    \n",
    "    print(\"Epoch = {},Cost = {:.3f},Accuracy = {:.3f}\".format(epoch,cost,acc))"
   ]
  },
  {
   "cell_type": "code",
   "execution_count": 6,
   "metadata": {},
   "outputs": [],
   "source": [
    "class LogisticRegression(torch.nn.Module):\n",
    "\n",
    "    def __init__(self, num_features):\n",
    "        super(LogisticRegression, self).__init__()\n",
    "        self.fc1 = torch.nn.Linear(num_features, 1)\n",
    "        \n",
    "        self.fc1.weight.detach().zero_()\n",
    "        self.fc1.bias.detach().zero_()\n",
    "        \n",
    "    def forward(self, x):\n",
    "        return torch.sigmoid(self.fc1(x))"
   ]
  },
  {
   "cell_type": "code",
   "execution_count": 6,
   "metadata": {},
   "outputs": [],
   "source": [
    "model_auto = LogisticRegression(num_features=2).to(device)\n",
    "optimizer = torch.optim.SGD(model_auto.parameters(), lr=0.01, weight_decay=LAMBDA)\n",
    "loss = torch.nn.BCELoss()"
   ]
  },
  {
   "cell_type": "code",
   "execution_count": 8,
   "metadata": {},
   "outputs": [
    {
     "name": "stdout",
     "output_type": "stream",
     "text": [
      "Epoch = 0,Cost = 0.693,Accuracy = 0.770\n",
      "Epoch = 1,Cost = 0.665,Accuracy = 0.790\n",
      "Epoch = 2,Cost = 0.641,Accuracy = 0.800\n",
      "Epoch = 3,Cost = 0.619,Accuracy = 0.830\n",
      "Epoch = 4,Cost = 0.600,Accuracy = 0.860\n",
      "Epoch = 5,Cost = 0.582,Accuracy = 0.870\n",
      "Epoch = 6,Cost = 0.566,Accuracy = 0.880\n",
      "Epoch = 7,Cost = 0.552,Accuracy = 0.880\n",
      "Epoch = 8,Cost = 0.539,Accuracy = 0.890\n",
      "Epoch = 9,Cost = 0.527,Accuracy = 0.900\n",
      "Epoch = 10,Cost = 0.516,Accuracy = 0.900\n",
      "Epoch = 11,Cost = 0.505,Accuracy = 0.900\n",
      "Epoch = 12,Cost = 0.496,Accuracy = 0.900\n",
      "Epoch = 13,Cost = 0.487,Accuracy = 0.900\n",
      "Epoch = 14,Cost = 0.479,Accuracy = 0.900\n",
      "Epoch = 15,Cost = 0.471,Accuracy = 0.900\n",
      "Epoch = 16,Cost = 0.464,Accuracy = 0.900\n",
      "Epoch = 17,Cost = 0.457,Accuracy = 0.890\n",
      "Epoch = 18,Cost = 0.451,Accuracy = 0.890\n",
      "Epoch = 19,Cost = 0.445,Accuracy = 0.890\n",
      "Epoch = 20,Cost = 0.440,Accuracy = 0.900\n",
      "Epoch = 21,Cost = 0.435,Accuracy = 0.900\n",
      "Epoch = 22,Cost = 0.430,Accuracy = 0.900\n",
      "Epoch = 23,Cost = 0.425,Accuracy = 0.900\n",
      "Epoch = 24,Cost = 0.421,Accuracy = 0.900\n",
      "Epoch = 25,Cost = 0.417,Accuracy = 0.900\n",
      "Epoch = 26,Cost = 0.413,Accuracy = 0.900\n",
      "Epoch = 27,Cost = 0.410,Accuracy = 0.900\n",
      "Epoch = 28,Cost = 0.407,Accuracy = 0.900\n",
      "Epoch = 29,Cost = 0.403,Accuracy = 0.900\n",
      "Epoch = 30,Cost = 0.401,Accuracy = 0.900\n",
      "Epoch = 31,Cost = 0.398,Accuracy = 0.900\n",
      "Epoch = 32,Cost = 0.395,Accuracy = 0.900\n",
      "Epoch = 33,Cost = 0.393,Accuracy = 0.900\n",
      "Epoch = 34,Cost = 0.390,Accuracy = 0.900\n",
      "Epoch = 35,Cost = 0.388,Accuracy = 0.900\n",
      "Epoch = 36,Cost = 0.386,Accuracy = 0.900\n",
      "Epoch = 37,Cost = 0.384,Accuracy = 0.900\n",
      "Epoch = 38,Cost = 0.382,Accuracy = 0.900\n",
      "Epoch = 39,Cost = 0.380,Accuracy = 0.900\n",
      "Epoch = 40,Cost = 0.378,Accuracy = 0.900\n",
      "Epoch = 41,Cost = 0.377,Accuracy = 0.900\n",
      "Epoch = 42,Cost = 0.375,Accuracy = 0.900\n",
      "Epoch = 43,Cost = 0.374,Accuracy = 0.900\n",
      "Epoch = 44,Cost = 0.372,Accuracy = 0.900\n",
      "Epoch = 45,Cost = 0.371,Accuracy = 0.900\n",
      "Epoch = 46,Cost = 0.370,Accuracy = 0.900\n",
      "Epoch = 47,Cost = 0.368,Accuracy = 0.900\n",
      "Epoch = 48,Cost = 0.367,Accuracy = 0.900\n",
      "Epoch = 49,Cost = 0.366,Accuracy = 0.900\n",
      "Epoch = 50,Cost = 0.365,Accuracy = 0.910\n",
      "Epoch = 51,Cost = 0.364,Accuracy = 0.910\n",
      "Epoch = 52,Cost = 0.363,Accuracy = 0.910\n",
      "Epoch = 53,Cost = 0.362,Accuracy = 0.910\n",
      "Epoch = 54,Cost = 0.361,Accuracy = 0.910\n",
      "Epoch = 55,Cost = 0.361,Accuracy = 0.910\n",
      "Epoch = 56,Cost = 0.360,Accuracy = 0.910\n",
      "Epoch = 57,Cost = 0.359,Accuracy = 0.910\n",
      "Epoch = 58,Cost = 0.358,Accuracy = 0.910\n",
      "Epoch = 59,Cost = 0.358,Accuracy = 0.910\n",
      "Epoch = 60,Cost = 0.357,Accuracy = 0.910\n",
      "Epoch = 61,Cost = 0.356,Accuracy = 0.910\n",
      "Epoch = 62,Cost = 0.356,Accuracy = 0.910\n",
      "Epoch = 63,Cost = 0.355,Accuracy = 0.910\n",
      "Epoch = 64,Cost = 0.355,Accuracy = 0.910\n",
      "Epoch = 65,Cost = 0.354,Accuracy = 0.910\n",
      "Epoch = 66,Cost = 0.354,Accuracy = 0.910\n",
      "Epoch = 67,Cost = 0.353,Accuracy = 0.910\n",
      "Epoch = 68,Cost = 0.353,Accuracy = 0.910\n",
      "Epoch = 69,Cost = 0.352,Accuracy = 0.910\n",
      "Epoch = 70,Cost = 0.352,Accuracy = 0.910\n",
      "Epoch = 71,Cost = 0.351,Accuracy = 0.910\n",
      "Epoch = 72,Cost = 0.351,Accuracy = 0.910\n",
      "Epoch = 73,Cost = 0.351,Accuracy = 0.910\n",
      "Epoch = 74,Cost = 0.350,Accuracy = 0.910\n",
      "Epoch = 75,Cost = 0.350,Accuracy = 0.910\n",
      "Epoch = 76,Cost = 0.350,Accuracy = 0.910\n",
      "Epoch = 77,Cost = 0.349,Accuracy = 0.910\n",
      "Epoch = 78,Cost = 0.349,Accuracy = 0.910\n",
      "Epoch = 79,Cost = 0.349,Accuracy = 0.910\n",
      "Epoch = 80,Cost = 0.348,Accuracy = 0.910\n",
      "Epoch = 81,Cost = 0.348,Accuracy = 0.910\n",
      "Epoch = 82,Cost = 0.348,Accuracy = 0.910\n",
      "Epoch = 83,Cost = 0.348,Accuracy = 0.910\n",
      "Epoch = 84,Cost = 0.347,Accuracy = 0.910\n",
      "Epoch = 85,Cost = 0.347,Accuracy = 0.910\n",
      "Epoch = 86,Cost = 0.347,Accuracy = 0.910\n",
      "Epoch = 87,Cost = 0.347,Accuracy = 0.910\n",
      "Epoch = 88,Cost = 0.347,Accuracy = 0.910\n",
      "Epoch = 89,Cost = 0.346,Accuracy = 0.910\n",
      "Epoch = 90,Cost = 0.346,Accuracy = 0.910\n",
      "Epoch = 91,Cost = 0.346,Accuracy = 0.910\n",
      "Epoch = 92,Cost = 0.346,Accuracy = 0.910\n",
      "Epoch = 93,Cost = 0.346,Accuracy = 0.910\n",
      "Epoch = 94,Cost = 0.346,Accuracy = 0.910\n",
      "Epoch = 95,Cost = 0.345,Accuracy = 0.910\n",
      "Epoch = 96,Cost = 0.345,Accuracy = 0.910\n",
      "Epoch = 97,Cost = 0.345,Accuracy = 0.910\n",
      "Epoch = 98,Cost = 0.345,Accuracy = 0.910\n",
      "Epoch = 99,Cost = 0.345,Accuracy = 0.910\n",
      "\n",
      "Weights = Parameter containing:\n",
      "tensor([[ 0.2732, -0.1621]], requires_grad=True)\n",
      "Bias = Parameter containing:\n",
      "tensor([-0.0165], requires_grad=True)\n"
     ]
    }
   ],
   "source": [
    "for epoch in range(100):\n",
    "    \n",
    "    out = model_auto(X)\n",
    "    cost = loss(out, y)\n",
    "    optimizer.zero_grad()\n",
    "    cost.backward()\n",
    "    optimizer.step()\n",
    "    \n",
    "    book_keeping(model_auto,epoch,cost.item())\n",
    "\n",
    "print('\\nWeights = {}\\nBias = {}'.format(model_auto.fc1.weight,model_auto.fc1.bias))"
   ]
  },
  {
   "cell_type": "code",
   "execution_count": 9,
   "metadata": {},
   "outputs": [],
   "source": [
    "model_manual = LogisticRegression(num_features=2).to(device)\n",
    "optimizer = torch.optim.SGD(model_manual.parameters(), lr=0.01)"
   ]
  },
  {
   "cell_type": "code",
   "execution_count": 10,
   "metadata": {},
   "outputs": [
    {
     "name": "stdout",
     "output_type": "stream",
     "text": [
      "Epoch = 0,Cost = 0.693,Accuracy = 0.770\n",
      "Epoch = 1,Cost = 0.665,Accuracy = 0.790\n",
      "Epoch = 2,Cost = 0.642,Accuracy = 0.800\n",
      "Epoch = 3,Cost = 0.621,Accuracy = 0.830\n",
      "Epoch = 4,Cost = 0.603,Accuracy = 0.860\n",
      "Epoch = 5,Cost = 0.588,Accuracy = 0.870\n",
      "Epoch = 6,Cost = 0.574,Accuracy = 0.880\n",
      "Epoch = 7,Cost = 0.561,Accuracy = 0.880\n",
      "Epoch = 8,Cost = 0.550,Accuracy = 0.890\n",
      "Epoch = 9,Cost = 0.540,Accuracy = 0.900\n",
      "Epoch = 10,Cost = 0.531,Accuracy = 0.900\n",
      "Epoch = 11,Cost = 0.524,Accuracy = 0.900\n",
      "Epoch = 12,Cost = 0.516,Accuracy = 0.900\n",
      "Epoch = 13,Cost = 0.510,Accuracy = 0.900\n",
      "Epoch = 14,Cost = 0.504,Accuracy = 0.900\n",
      "Epoch = 15,Cost = 0.499,Accuracy = 0.900\n",
      "Epoch = 16,Cost = 0.494,Accuracy = 0.900\n",
      "Epoch = 17,Cost = 0.490,Accuracy = 0.890\n",
      "Epoch = 18,Cost = 0.486,Accuracy = 0.890\n",
      "Epoch = 19,Cost = 0.482,Accuracy = 0.890\n",
      "Epoch = 20,Cost = 0.479,Accuracy = 0.900\n",
      "Epoch = 21,Cost = 0.476,Accuracy = 0.900\n",
      "Epoch = 22,Cost = 0.473,Accuracy = 0.900\n",
      "Epoch = 23,Cost = 0.471,Accuracy = 0.900\n",
      "Epoch = 24,Cost = 0.469,Accuracy = 0.900\n",
      "Epoch = 25,Cost = 0.467,Accuracy = 0.900\n",
      "Epoch = 26,Cost = 0.465,Accuracy = 0.900\n",
      "Epoch = 27,Cost = 0.463,Accuracy = 0.900\n",
      "Epoch = 28,Cost = 0.462,Accuracy = 0.900\n",
      "Epoch = 29,Cost = 0.461,Accuracy = 0.900\n",
      "Epoch = 30,Cost = 0.459,Accuracy = 0.900\n",
      "Epoch = 31,Cost = 0.458,Accuracy = 0.900\n",
      "Epoch = 32,Cost = 0.457,Accuracy = 0.900\n",
      "Epoch = 33,Cost = 0.456,Accuracy = 0.900\n",
      "Epoch = 34,Cost = 0.455,Accuracy = 0.900\n",
      "Epoch = 35,Cost = 0.455,Accuracy = 0.900\n",
      "Epoch = 36,Cost = 0.454,Accuracy = 0.900\n",
      "Epoch = 37,Cost = 0.453,Accuracy = 0.900\n",
      "Epoch = 38,Cost = 0.453,Accuracy = 0.900\n",
      "Epoch = 39,Cost = 0.452,Accuracy = 0.900\n",
      "Epoch = 40,Cost = 0.451,Accuracy = 0.900\n",
      "Epoch = 41,Cost = 0.451,Accuracy = 0.900\n",
      "Epoch = 42,Cost = 0.451,Accuracy = 0.900\n",
      "Epoch = 43,Cost = 0.450,Accuracy = 0.900\n",
      "Epoch = 44,Cost = 0.450,Accuracy = 0.900\n",
      "Epoch = 45,Cost = 0.450,Accuracy = 0.900\n",
      "Epoch = 46,Cost = 0.449,Accuracy = 0.900\n",
      "Epoch = 47,Cost = 0.449,Accuracy = 0.900\n",
      "Epoch = 48,Cost = 0.449,Accuracy = 0.900\n",
      "Epoch = 49,Cost = 0.448,Accuracy = 0.900\n",
      "Epoch = 50,Cost = 0.448,Accuracy = 0.910\n",
      "Epoch = 51,Cost = 0.448,Accuracy = 0.910\n",
      "Epoch = 52,Cost = 0.448,Accuracy = 0.910\n",
      "Epoch = 53,Cost = 0.448,Accuracy = 0.910\n",
      "Epoch = 54,Cost = 0.448,Accuracy = 0.910\n",
      "Epoch = 55,Cost = 0.447,Accuracy = 0.910\n",
      "Epoch = 56,Cost = 0.447,Accuracy = 0.910\n",
      "Epoch = 57,Cost = 0.447,Accuracy = 0.910\n",
      "Epoch = 58,Cost = 0.447,Accuracy = 0.910\n",
      "Epoch = 59,Cost = 0.447,Accuracy = 0.910\n",
      "Epoch = 60,Cost = 0.447,Accuracy = 0.910\n",
      "Epoch = 61,Cost = 0.447,Accuracy = 0.910\n",
      "Epoch = 62,Cost = 0.447,Accuracy = 0.910\n",
      "Epoch = 63,Cost = 0.447,Accuracy = 0.910\n",
      "Epoch = 64,Cost = 0.447,Accuracy = 0.910\n",
      "Epoch = 65,Cost = 0.447,Accuracy = 0.910\n",
      "Epoch = 66,Cost = 0.447,Accuracy = 0.910\n",
      "Epoch = 67,Cost = 0.446,Accuracy = 0.910\n",
      "Epoch = 68,Cost = 0.446,Accuracy = 0.910\n",
      "Epoch = 69,Cost = 0.446,Accuracy = 0.910\n",
      "Epoch = 70,Cost = 0.446,Accuracy = 0.910\n",
      "Epoch = 71,Cost = 0.446,Accuracy = 0.910\n",
      "Epoch = 72,Cost = 0.446,Accuracy = 0.910\n",
      "Epoch = 73,Cost = 0.446,Accuracy = 0.910\n",
      "Epoch = 74,Cost = 0.446,Accuracy = 0.910\n",
      "Epoch = 75,Cost = 0.446,Accuracy = 0.910\n",
      "Epoch = 76,Cost = 0.446,Accuracy = 0.910\n",
      "Epoch = 77,Cost = 0.446,Accuracy = 0.910\n",
      "Epoch = 78,Cost = 0.446,Accuracy = 0.910\n",
      "Epoch = 79,Cost = 0.446,Accuracy = 0.910\n",
      "Epoch = 80,Cost = 0.446,Accuracy = 0.910\n",
      "Epoch = 81,Cost = 0.446,Accuracy = 0.910\n",
      "Epoch = 82,Cost = 0.446,Accuracy = 0.910\n",
      "Epoch = 83,Cost = 0.446,Accuracy = 0.910\n",
      "Epoch = 84,Cost = 0.446,Accuracy = 0.910\n",
      "Epoch = 85,Cost = 0.446,Accuracy = 0.910\n",
      "Epoch = 86,Cost = 0.446,Accuracy = 0.910\n",
      "Epoch = 87,Cost = 0.446,Accuracy = 0.910\n",
      "Epoch = 88,Cost = 0.446,Accuracy = 0.910\n",
      "Epoch = 89,Cost = 0.446,Accuracy = 0.910\n",
      "Epoch = 90,Cost = 0.446,Accuracy = 0.910\n",
      "Epoch = 91,Cost = 0.446,Accuracy = 0.910\n",
      "Epoch = 92,Cost = 0.446,Accuracy = 0.910\n",
      "Epoch = 93,Cost = 0.446,Accuracy = 0.910\n",
      "Epoch = 94,Cost = 0.446,Accuracy = 0.910\n",
      "Epoch = 95,Cost = 0.446,Accuracy = 0.910\n",
      "Epoch = 96,Cost = 0.446,Accuracy = 0.910\n",
      "Epoch = 97,Cost = 0.446,Accuracy = 0.910\n",
      "Epoch = 98,Cost = 0.446,Accuracy = 0.910\n",
      "Epoch = 99,Cost = 0.446,Accuracy = 0.910\n",
      "\n",
      "Weights = Parameter containing:\n",
      "tensor([[ 0.2732, -0.1621]], requires_grad=True)\n",
      "Bias = Parameter containing:\n",
      "tensor([-0.0165], requires_grad=True)\n"
     ]
    }
   ],
   "source": [
    "for epoch in range(100):\n",
    "    \n",
    "    out = model_manual(X)\n",
    "    cost = loss(out, y)\n",
    "    cost = cost + 0.5 * LAMBDA * torch.mm(model_manual.fc1.weight,\n",
    "                                          model_manual.fc1.weight.t())\n",
    "    cost = cost + 0.5 * LAMBDA * model_manual.fc1.bias**2\n",
    "    \n",
    "    optimizer.zero_grad()\n",
    "    cost.backward()\n",
    "    optimizer.step()\n",
    "    \n",
    "    book_keeping(model_manual,epoch,cost.item())\n",
    "\n",
    "print('\\nWeights = {}\\nBias = {}'.format(model_manual.fc1.weight,model_manual.fc1.bias))"
   ]
  },
  {
   "cell_type": "code",
   "execution_count": null,
   "metadata": {},
   "outputs": [],
   "source": []
  },
  {
   "cell_type": "markdown",
   "metadata": {},
   "source": [
    "# Dropout"
   ]
  },
  {
   "cell_type": "code",
   "execution_count": 1,
   "metadata": {},
   "outputs": [],
   "source": [
    "%matplotlib inline\n",
    "\n",
    "from sklearn.datasets.samples_generator import make_blobs\n",
    "import numpy as np\n",
    "np.random.seed(6)\n",
    "import matplotlib.pyplot as plt\n",
    "\n",
    "import torch\n",
    "import torch.nn.functional as F\n",
    "\n",
    "import math\n",
    "LAMBDA = 2\n",
    "device = torch.device('cuda:0' if torch.cuda.is_available() else 'cpu')\n",
    "(X,y) =  make_blobs(n_samples=100,n_features=2,centers=2,cluster_std=2.05,random_state=20)\n",
    "X = torch.tensor(X, dtype=torch.float32, device=device)\n",
    "y = torch.tensor(y, dtype=torch.float32, device=device).view(-1, 1)\n",
    "\n",
    "seed = 7"
   ]
  },
  {
   "cell_type": "code",
   "execution_count": 2,
   "metadata": {},
   "outputs": [],
   "source": [
    "class LR_DROP(torch.nn.Module):\n",
    "\n",
    "    def __init__(self, num_features):\n",
    "        super(LR_DROP, self).__init__()\n",
    "        self.fc1 = torch.nn.Linear(num_features, 8)\n",
    "        self.fc2 = torch.nn.Linear(8, 1)\n",
    "        \n",
    "        \n",
    "    def forward(self, x):\n",
    "        \n",
    "        x = self.fc1(x)\n",
    "        print(\"Before dropout\")\n",
    "        print(x)\n",
    "        x = F.dropout(x, p=0.5)\n",
    "        print(\"After dropout\")\n",
    "        print(x)\n",
    "        \n",
    "        x = self.fc2(x)\n",
    "        \n",
    "        return torch.sigmoid(x)"
   ]
  },
  {
   "cell_type": "code",
   "execution_count": 3,
   "metadata": {},
   "outputs": [],
   "source": [
    "torch.manual_seed(seed)\n",
    "model_drop = LR_DROP(num_features=2).to(device)"
   ]
  },
  {
   "cell_type": "code",
   "execution_count": 4,
   "metadata": {},
   "outputs": [],
   "source": [
    "optimizer_d = torch.optim.SGD(model_drop.parameters(), lr=0.01)\n",
    "loss = torch.nn.BCELoss()"
   ]
  },
  {
   "cell_type": "code",
   "execution_count": 5,
   "metadata": {},
   "outputs": [
    {
     "name": "stdout",
     "output_type": "stream",
     "text": [
      "Before dropout\n",
      "tensor([[-1.1715,  0.6772, -0.4953, -0.7122,  2.0020,  1.1622, -1.7910, -0.6215]],\n",
      "       grad_fn=<AddmmBackward>)\n",
      "After dropout\n",
      "tensor([[-0.0000, 1.3545, -0.0000, -0.0000, 0.0000, 2.3245, -0.0000, -0.0000]],\n",
      "       grad_fn=<MulBackward0>)\n"
     ]
    }
   ],
   "source": [
    "for epoch in range(1):\n",
    "    \n",
    "    md = model_drop(X[:1])\n",
    "    cost_m = loss(md,y[:1])\n",
    "    \n",
    "    optimizer_d.zero_grad()\n",
    "    cost_m.backward()\n",
    "    optimizer_d.step()"
   ]
  },
  {
   "cell_type": "code",
   "execution_count": 9,
   "metadata": {},
   "outputs": [
    {
     "data": {
      "text/plain": [
       "1.3544"
      ]
     },
     "execution_count": 9,
     "metadata": {},
     "output_type": "execute_result"
    }
   ],
   "source": [
    "0.6772 * (1/0.5) --> 1/(1-p) here p = 0.5"
   ]
  },
  {
   "cell_type": "code",
   "execution_count": 10,
   "metadata": {},
   "outputs": [
    {
     "data": {
      "text/plain": [
       "2.3244"
      ]
     },
     "execution_count": 10,
     "metadata": {},
     "output_type": "execute_result"
    }
   ],
   "source": [
    "1.1622 * (1/0.5)"
   ]
  },
  {
   "cell_type": "markdown",
   "metadata": {},
   "source": [
    "# Normalization"
   ]
  },
  {
   "cell_type": "code",
   "execution_count": 2,
   "metadata": {},
   "outputs": [],
   "source": [
    "from torch.autograd import Variable"
   ]
  },
  {
   "cell_type": "code",
   "execution_count": 14,
   "metadata": {},
   "outputs": [
    {
     "data": {
      "text/plain": [
       "tensor([[ 0.2119,  0.4781,  0.5835,  1.4480,  0.2817],\n",
       "        [ 0.6824,  0.3896, -2.1601,  2.9554, -0.1126],\n",
       "        [-1.4871,  0.5986, -0.4496,  1.6792,  0.4368],\n",
       "        [ 0.6371, -0.1796, -0.8175, -0.4275, -0.9538]])"
      ]
     },
     "execution_count": 14,
     "metadata": {},
     "output_type": "execute_result"
    }
   ],
   "source": [
    "X = torch.randn(4, 5)\n",
    "X"
   ]
  },
  {
   "cell_type": "code",
   "execution_count": 15,
   "metadata": {},
   "outputs": [
    {
     "data": {
      "text/plain": [
       "tensor([[ 0.2272,  0.5235,  1.3185,  0.0283,  0.6838],\n",
       "        [ 0.7592,  0.2274, -1.4761,  1.2760, -0.0475],\n",
       "        [-1.6943,  0.9268,  0.2662,  0.2197,  0.9717],\n",
       "        [ 0.7079, -1.6777, -0.1085, -1.5240, -1.6081]])"
      ]
     },
     "execution_count": 15,
     "metadata": {},
     "output_type": "execute_result"
    }
   ],
   "source": [
    "B = torch.nn.BatchNorm1d(5, affine=False)\n",
    "y = B(X)\n",
    "y"
   ]
  },
  {
   "cell_type": "code",
   "execution_count": 16,
   "metadata": {},
   "outputs": [
    {
     "data": {
      "text/plain": [
       "tensor([[ 0.2272,  0.5235,  1.3185,  0.0283,  0.6838],\n",
       "        [ 0.7592,  0.2274, -1.4761,  1.2760, -0.0475],\n",
       "        [-1.6943,  0.9268,  0.2662,  0.2197,  0.9717],\n",
       "        [ 0.7079, -1.6777, -0.1085, -1.5240, -1.6081]])"
      ]
     },
     "execution_count": 16,
     "metadata": {},
     "output_type": "execute_result"
    }
   ],
   "source": [
    "output_m = Variable(X)\n",
    "\n",
    "mu = torch.mean(output_m,axis=0)  \n",
    "var_ = torch.var(output_m, unbiased=False,axis=0)\n",
    "sigma = torch.sqrt(var_ + 1e-5)\n",
    "out = (output_m - mu)/sigma\n",
    "\n",
    "out"
   ]
  },
  {
   "cell_type": "code",
   "execution_count": 17,
   "metadata": {},
   "outputs": [
    {
     "data": {
      "text/plain": [
       "tensor([ 0.0111,  0.3217, -0.7109,  1.4138, -0.0870])"
      ]
     },
     "execution_count": 17,
     "metadata": {},
     "output_type": "execute_result"
    }
   ],
   "source": [
    "torch.mean(output_m,axis=0)"
   ]
  },
  {
   "cell_type": "code",
   "execution_count": 18,
   "metadata": {},
   "outputs": [
    {
     "data": {
      "text/plain": [
       "tensor([0.7819, 0.0893, 0.9638, 1.4596, 0.2906])"
      ]
     },
     "execution_count": 18,
     "metadata": {},
     "output_type": "execute_result"
    }
   ],
   "source": [
    "torch.var(output_m, unbiased=False,axis=0)"
   ]
  },
  {
   "cell_type": "code",
   "execution_count": 19,
   "metadata": {},
   "outputs": [
    {
     "data": {
      "text/plain": [
       "tensor([0.8842, 0.2988, 0.9817, 1.2082, 0.5391])"
      ]
     },
     "execution_count": 19,
     "metadata": {},
     "output_type": "execute_result"
    }
   ],
   "source": [
    "torch.sqrt(var_ + 1e-5)"
   ]
  },
  {
   "cell_type": "markdown",
   "metadata": {},
   "source": [
    "Layer Norm"
   ]
  },
  {
   "cell_type": "code",
   "execution_count": 38,
   "metadata": {},
   "outputs": [
    {
     "data": {
      "text/plain": [
       "tensor([[ 0.2119,  0.4781,  0.5835,  1.4480,  0.2817],\n",
       "        [ 0.6824,  0.3896, -2.1601,  2.9554, -0.1126],\n",
       "        [-1.4871,  0.5986, -0.4496,  1.6792,  0.4368],\n",
       "        [ 0.6371, -0.1796, -0.8175, -0.4275, -0.9538]])"
      ]
     },
     "execution_count": 38,
     "metadata": {},
     "output_type": "execute_result"
    }
   ],
   "source": [
    "X"
   ]
  },
  {
   "cell_type": "code",
   "execution_count": 39,
   "metadata": {},
   "outputs": [
    {
     "data": {
      "text/plain": [
       "tensor([[-0.8752, -0.2759, -0.0387,  1.9080, -0.7182],\n",
       "        [ 0.2023,  0.0236, -1.5330,  1.5900, -0.2830],\n",
       "        [-1.5438,  0.4164, -0.5687,  1.4318,  0.2643],\n",
       "        [ 1.7459,  0.2989, -0.8314, -0.1404, -1.0730]],\n",
       "       grad_fn=<NativeLayerNormBackward>)"
      ]
     },
     "execution_count": 39,
     "metadata": {},
     "output_type": "execute_result"
    }
   ],
   "source": [
    "L = torch.nn.LayerNorm(5)\n",
    "y = L(X)\n",
    "y"
   ]
  },
  {
   "cell_type": "code",
   "execution_count": 44,
   "metadata": {},
   "outputs": [
    {
     "data": {
      "text/plain": [
       "tensor([[-0.8752, -0.2759, -0.0387,  1.9080, -0.7182],\n",
       "        [ 0.2023,  0.0236, -1.5330,  1.5900, -0.2830],\n",
       "        [-1.5438,  0.4164, -0.5687,  1.4318,  0.2643],\n",
       "        [ 1.7459,  0.2989, -0.8314, -0.1404, -1.0730]])"
      ]
     },
     "execution_count": 44,
     "metadata": {},
     "output_type": "execute_result"
    }
   ],
   "source": [
    "output_m = Variable(X)\n",
    "\n",
    "mu = torch.mean(output_m,axis=1)  \n",
    "var_ = torch.var(output_m, unbiased=False,axis=1)\n",
    "sigma = torch.sqrt(var_ + 1e-5)\n",
    "out = (output_m.T - mu)/sigma\n",
    "\n",
    "out.T"
   ]
  },
  {
   "cell_type": "code",
   "execution_count": 31,
   "metadata": {},
   "outputs": [
    {
     "data": {
      "text/plain": [
       "tensor([ 0.6006,  0.3510,  0.1556, -0.3483])"
      ]
     },
     "execution_count": 31,
     "metadata": {},
     "output_type": "execute_result"
    }
   ],
   "source": [
    "torch.mean(output_m,axis=1)"
   ]
  },
  {
   "cell_type": "code",
   "execution_count": 32,
   "metadata": {},
   "outputs": [
    {
     "data": {
      "text/plain": [
       "tensor([0.1972, 2.6829, 1.1323, 0.3185])"
      ]
     },
     "execution_count": 32,
     "metadata": {},
     "output_type": "execute_result"
    }
   ],
   "source": [
    "torch.var(output_m, unbiased=False,axis=1)"
   ]
  },
  {
   "cell_type": "code",
   "execution_count": 33,
   "metadata": {},
   "outputs": [
    {
     "data": {
      "text/plain": [
       "tensor([0.4441, 1.6380, 1.0641, 0.5644])"
      ]
     },
     "execution_count": 33,
     "metadata": {},
     "output_type": "execute_result"
    }
   ],
   "source": [
    "torch.sqrt(torch.var(output_m, unbiased=False,axis=1) + 1e-5)"
   ]
  },
  {
   "cell_type": "code",
   "execution_count": 36,
   "metadata": {},
   "outputs": [
    {
     "data": {
      "text/plain": [
       "-0.2758387750506643"
      ]
     },
     "execution_count": 36,
     "metadata": {},
     "output_type": "execute_result"
    }
   ],
   "source": [
    "(0.4781 - 0.6006)/0.4441"
   ]
  },
  {
   "cell_type": "markdown",
   "metadata": {},
   "source": [
    "Instance Norm"
   ]
  },
  {
   "cell_type": "code",
   "execution_count": 70,
   "metadata": {},
   "outputs": [
    {
     "data": {
      "text/plain": [
       "tensor([[[-0.1877,  0.4350, -0.3159],\n",
       "         [-1.4015,  1.4348, -0.3522],\n",
       "         [ 0.5299,  1.4537, -0.2811],\n",
       "         [ 1.9917, -0.4859, -0.9589],\n",
       "         [-0.1720,  1.1200,  0.0371]],\n",
       "\n",
       "        [[-0.1600,  0.2946,  0.0730],\n",
       "         [-1.2220,  0.4028,  1.4718],\n",
       "         [-1.8032,  0.2423, -0.3687],\n",
       "         [ 1.2520,  0.0510,  0.5131],\n",
       "         [ 0.8930, -1.7271,  1.3287]]])"
      ]
     },
     "execution_count": 70,
     "metadata": {},
     "output_type": "execute_result"
    }
   ],
   "source": [
    "X = torch.randn(2, 5,3)\n",
    "X"
   ]
  },
  {
   "cell_type": "code",
   "execution_count": 71,
   "metadata": {},
   "outputs": [
    {
     "data": {
      "text/plain": [
       "tensor([[[-0.5026,  1.3960, -0.8934],\n",
       "         [-1.1062,  1.3162, -0.2100],\n",
       "         [-0.0531,  1.2504, -1.1973],\n",
       "         [ 1.3984, -0.5164, -0.8820],\n",
       "         [-0.8836,  1.3980, -0.5144]],\n",
       "\n",
       "        [[-1.2346,  1.2142,  0.0204],\n",
       "         [-1.2998,  0.1673,  1.1325],\n",
       "         [-1.3530,  1.0328,  0.3202],\n",
       "         [ 1.3073, -1.1207, -0.1866],\n",
       "         [ 0.5395, -1.4019,  0.8624]]])"
      ]
     },
     "execution_count": 71,
     "metadata": {},
     "output_type": "execute_result"
    }
   ],
   "source": [
    "I = torch.nn.InstanceNorm1d(5)\n",
    "y = I(X)\n",
    "y"
   ]
  },
  {
   "cell_type": "code",
   "execution_count": 122,
   "metadata": {},
   "outputs": [
    {
     "name": "stdout",
     "output_type": "stream",
     "text": [
      "tensor([[[-0.0229, -0.0229, -0.0229],\n",
      "         [-0.1063, -0.1063, -0.1063],\n",
      "         [ 0.5675,  0.5675,  0.5675],\n",
      "         [ 0.1823,  0.1823,  0.1823],\n",
      "         [ 0.3284,  0.3284,  0.3284]],\n",
      "\n",
      "        [[ 0.0692,  0.0692,  0.0692],\n",
      "         [ 0.2175,  0.2175,  0.2175],\n",
      "         [-0.6432, -0.6432, -0.6432],\n",
      "         [ 0.6054,  0.6054,  0.6054],\n",
      "         [ 0.1649,  0.1649,  0.1649]]])\n"
     ]
    }
   ],
   "source": [
    "l_mean = torch.Tensor()\n",
    "test_mu = torch.mean(output_m,axis=2)\n",
    "\n",
    "for i in range(2):\n",
    "    out = torch.cat((test_mu[i],test_mu[i],test_mu[i]),axis=0).view(3,5).T\n",
    "    l_mean = torch.cat((l_mean,out),axis=0)\n",
    "l_mean = l_mean.view(2,5,3)\n",
    "\n",
    "print(l_mean)"
   ]
  },
  {
   "cell_type": "code",
   "execution_count": 123,
   "metadata": {},
   "outputs": [
    {
     "name": "stdout",
     "output_type": "stream",
     "text": [
      "tensor([[[0.1076, 0.1076, 0.1076],\n",
      "         [1.3710, 1.3710, 1.3710],\n",
      "         [0.5023, 0.5023, 0.5023],\n",
      "         [1.6742, 1.6742, 1.6742],\n",
      "         [0.3207, 0.3207, 0.3207]],\n",
      "\n",
      "        [[0.0345, 0.0345, 0.0345],\n",
      "         [1.2265, 1.2265, 1.2265],\n",
      "         [0.7350, 0.7350, 0.7350],\n",
      "         [0.2447, 0.2447, 0.2447],\n",
      "         [1.8214, 1.8214, 1.8214]]])\n",
      "tensor([[[0.3280, 0.3280, 0.3280],\n",
      "         [1.1709, 1.1709, 1.1709],\n",
      "         [0.7087, 0.7087, 0.7087],\n",
      "         [1.2939, 1.2939, 1.2939],\n",
      "         [0.5663, 0.5663, 0.5663]],\n",
      "\n",
      "        [[0.1856, 0.1856, 0.1856],\n",
      "         [1.1075, 1.1075, 1.1075],\n",
      "         [0.8573, 0.8573, 0.8573],\n",
      "         [0.4947, 0.4947, 0.4947],\n",
      "         [1.3496, 1.3496, 1.3496]]])\n"
     ]
    }
   ],
   "source": [
    "l_var = torch.Tensor()\n",
    "l_sigma = torch.Tensor()\n",
    "\n",
    "test_var = torch.var(output_m, unbiased=False,axis=2)\n",
    "\n",
    "for i in range(2):\n",
    "    out = torch.cat((test_var[i],test_var[i],test_var[i]),axis=0).view(3,5).T\n",
    "    l_var = torch.cat((l_var,out),axis=0)\n",
    "    \n",
    "    out = torch.sqrt(out + 1e-5)\n",
    "    l_sigma = torch.cat((l_sigma,out),axis=0)\n",
    "    \n",
    "l_var = l_var.view(2,5,3)\n",
    "print(l_var)\n",
    "\n",
    "l_sigma = l_sigma.view(2,5,3)\n",
    "print(l_sigma)"
   ]
  },
  {
   "cell_type": "code",
   "execution_count": 126,
   "metadata": {},
   "outputs": [
    {
     "data": {
      "text/plain": [
       "tensor([[[-0.5026,  1.3960, -0.8934],\n",
       "         [-1.1062,  1.3162, -0.2100],\n",
       "         [-0.0531,  1.2504, -1.1973],\n",
       "         [ 1.3984, -0.5164, -0.8820],\n",
       "         [-0.8836,  1.3980, -0.5144]],\n",
       "\n",
       "        [[-1.2346,  1.2142,  0.0204],\n",
       "         [-1.2998,  0.1673,  1.1325],\n",
       "         [-1.3530,  1.0328,  0.3202],\n",
       "         [ 1.3073, -1.1207, -0.1866],\n",
       "         [ 0.5395, -1.4019,  0.8624]]])"
      ]
     },
     "execution_count": 126,
     "metadata": {},
     "output_type": "execute_result"
    }
   ],
   "source": [
    "(output_m - l_mean)/l_sigma"
   ]
  },
  {
   "cell_type": "code",
   "execution_count": 128,
   "metadata": {},
   "outputs": [
    {
     "data": {
      "text/plain": [
       "tensor([[[[-0.6801,  0.8050, -0.2375,  ...,  0.2672, -0.8491, -1.9923],\n",
       "          [-0.2956,  0.6626, -2.6632,  ..., -0.1351, -0.5720,  1.3682],\n",
       "          [-0.0611, -1.6135, -1.3958,  ...,  0.4588, -0.1706, -0.4495],\n",
       "          ...,\n",
       "          [-0.7846,  0.3523, -0.8959,  ...,  1.4718, -1.7232,  0.1926],\n",
       "          [-0.9958, -2.4813, -0.7849,  ..., -0.4490,  1.3360,  0.1663],\n",
       "          [ 1.2332,  0.4977, -0.3982,  ...,  2.4332, -0.2299,  0.9321]],\n",
       "\n",
       "         [[-0.6449, -0.2827, -0.8080,  ..., -1.1808, -0.3174, -0.7104],\n",
       "          [-0.9114, -1.2741, -1.1681,  ...,  0.4044,  1.3290, -1.3337],\n",
       "          [-0.3594,  0.1920, -0.7111,  ..., -0.9584,  1.6782, -1.0826],\n",
       "          ...,\n",
       "          [-1.2291,  0.5288,  1.3412,  ..., -0.8062,  0.7689,  0.1069],\n",
       "          [ 1.2782, -0.5982, -1.3812,  ..., -0.6342, -0.9582, -0.0155],\n",
       "          [-0.0698, -0.3404,  1.3291,  ..., -0.5399,  0.0525, -1.3264]],\n",
       "\n",
       "         [[-0.7466, -1.7264,  1.0393,  ...,  0.0214, -0.2886, -1.5610],\n",
       "          [ 1.1086,  0.2539, -1.0424,  ..., -0.3751, -0.5581,  1.7094],\n",
       "          [ 0.3629,  1.1779,  0.4538,  ...,  0.3892, -0.2875,  0.8411],\n",
       "          ...,\n",
       "          [ 0.0492,  0.6410,  1.3422,  ..., -1.0321, -0.0756,  0.5020],\n",
       "          [ 0.0921, -0.2094,  0.1715,  ..., -0.0219,  1.3006, -0.8331],\n",
       "          [ 0.6420,  1.0623,  1.0001,  ...,  0.5485, -1.2723, -1.3909]],\n",
       "\n",
       "         [[ 1.9586,  0.2819, -1.0668,  ..., -1.1532,  1.3885,  1.2272],\n",
       "          [-0.3301, -0.2617,  1.0748,  ...,  1.0079, -0.1761,  1.1899],\n",
       "          [-0.9101,  0.4593, -2.0212,  ...,  1.0617, -0.9647,  0.7214],\n",
       "          ...,\n",
       "          [ 0.9693, -0.2233,  0.2774,  ..., -0.9149,  1.2906, -0.1077],\n",
       "          [ 0.0952,  2.0679, -1.2392,  ..., -0.3525,  0.4386,  0.6956],\n",
       "          [ 0.5886,  0.1249,  0.9494,  ...,  0.4119,  0.0078, -2.7410]],\n",
       "\n",
       "         [[-1.4532, -2.1168,  1.1167,  ...,  0.8042, -0.0725,  0.6108],\n",
       "          [ 0.2977,  0.8391,  1.2286,  ...,  0.0246, -1.3276,  2.1000],\n",
       "          [ 0.0900, -0.1006, -0.2180,  ...,  1.5805,  0.4093, -0.7719],\n",
       "          ...,\n",
       "          [-0.0969, -1.4212, -0.7228,  ..., -0.4360, -0.0608, -2.4895],\n",
       "          [ 0.5228, -0.0448,  0.8210,  ...,  1.2903, -0.1413, -0.1627],\n",
       "          [ 2.6259, -0.4619, -0.6846,  ...,  0.7980,  2.0415,  0.9207]],\n",
       "\n",
       "         [[ 0.0134, -0.2285,  0.8234,  ...,  1.3563,  1.0047,  1.4063],\n",
       "          [-0.0568, -2.2231,  1.0319,  ...,  0.9197,  0.7993,  1.7632],\n",
       "          [-1.8736, -0.0708,  0.9604,  ..., -0.0980,  0.4917, -1.8326],\n",
       "          ...,\n",
       "          [ 2.0371,  0.8729, -0.4611,  ..., -0.2769,  0.4536, -0.8742],\n",
       "          [ 0.6542,  0.5116,  1.9036,  ...,  1.8312,  0.2807, -1.2793],\n",
       "          [ 0.3496, -0.8124, -0.2366,  ..., -0.8561, -1.9274,  0.5400]]],\n",
       "\n",
       "\n",
       "        [[[ 0.1477, -0.7468,  1.3974,  ..., -0.0249,  0.4548,  0.6928],\n",
       "          [ 0.6124, -0.9837,  0.3299,  ...,  0.4742,  1.9855, -0.7199],\n",
       "          [ 1.7331, -0.0091, -0.9832,  ..., -0.2419,  0.5901,  0.7608],\n",
       "          ...,\n",
       "          [-0.2927, -0.1179,  1.0313,  ...,  0.3505, -1.3099, -0.3063],\n",
       "          [ 0.7567, -1.1626,  0.3322,  ...,  0.0285, -1.3317,  1.9424],\n",
       "          [-2.0486, -0.3686, -0.0120,  ...,  1.8236,  1.2170, -0.1427]],\n",
       "\n",
       "         [[ 0.6702,  0.3714, -1.9010,  ...,  0.2324, -0.1753,  0.7331],\n",
       "          [ 0.1338, -0.6854,  1.0691,  ...,  1.0095,  0.6439,  0.6526],\n",
       "          [ 1.3361,  0.1547,  2.0499,  ...,  0.2921, -1.0172, -1.3149],\n",
       "          ...,\n",
       "          [-0.6908,  0.1750, -1.3865,  ..., -0.3275,  0.6491, -0.4013],\n",
       "          [-0.1132,  0.6161, -0.3095,  ..., -0.4663, -0.5340, -0.7214],\n",
       "          [-0.8426,  0.7928,  0.8024,  ...,  0.4261, -0.1811,  0.8721]],\n",
       "\n",
       "         [[-0.0852,  0.1706,  0.4513,  ..., -0.3963,  1.2979, -2.1388],\n",
       "          [-1.2306,  1.1302,  0.0516,  ...,  0.9437, -0.9094,  0.2174],\n",
       "          [ 0.4390, -0.8168,  0.1763,  ..., -0.3437, -0.9566,  0.4146],\n",
       "          ...,\n",
       "          [ 0.7157, -2.1444, -0.6723,  ...,  1.2104,  1.2104, -0.2913],\n",
       "          [-0.1922,  0.8073, -0.5351,  ...,  0.3233, -0.3805,  0.2554],\n",
       "          [-0.2248, -1.3809, -0.7127,  ..., -0.1903, -1.3546,  1.0807]],\n",
       "\n",
       "         [[ 0.1166,  0.4123, -0.9693,  ...,  0.9323, -0.5972,  2.4902],\n",
       "          [-0.3980,  0.4947,  1.1896,  ..., -0.2814,  1.2676, -0.1995],\n",
       "          [ 0.0878,  1.0326, -0.2346,  ...,  0.7459, -1.2050, -0.8703],\n",
       "          ...,\n",
       "          [ 0.0581, -0.4716, -1.0596,  ..., -1.5151, -0.3575, -1.2821],\n",
       "          [ 1.0631, -2.5470,  0.1269,  ..., -0.2215,  0.3479, -0.8792],\n",
       "          [-1.5853, -0.8436, -0.2929,  ...,  0.7513,  0.5180,  0.4308]],\n",
       "\n",
       "         [[-0.2661,  1.2993, -1.1354,  ...,  2.1333, -1.4387,  0.1671],\n",
       "          [ 0.1303, -1.4999,  0.5873,  ..., -0.2143, -1.0236, -1.0043],\n",
       "          [ 1.4427, -1.1890, -0.5237,  ..., -1.5586,  1.8977, -0.0516],\n",
       "          ...,\n",
       "          [ 0.5140,  1.3616,  1.2281,  ...,  0.1412, -1.1668,  0.1477],\n",
       "          [-0.2835,  0.1648,  2.1961,  ..., -1.5848,  0.1155,  0.5735],\n",
       "          [-0.8598, -0.0976,  1.1701,  ..., -1.5627, -0.2965, -1.7475]],\n",
       "\n",
       "         [[ 0.5534,  1.0464, -1.7298,  ...,  0.8850,  0.5419,  0.6705],\n",
       "          [ 1.1334,  1.6906, -0.3115,  ...,  2.2873,  0.7301, -0.0596],\n",
       "          [-1.1575,  0.0974, -0.2758,  ...,  0.1312,  1.1271, -1.5654],\n",
       "          ...,\n",
       "          [-0.2784, -1.5128, -0.3336,  ..., -0.9728,  0.1877, -0.1435],\n",
       "          [ 0.5819, -2.5811,  0.8456,  ..., -0.1306, -0.3742, -0.8611],\n",
       "          [-0.6405, -0.5290,  0.3975,  ...,  0.2831, -1.2651, -1.3174]]],\n",
       "\n",
       "\n",
       "        [[[-0.9465, -0.0799, -0.1758,  ...,  0.4182, -1.3278,  1.0285],\n",
       "          [-0.6223, -1.0888, -0.4103,  ..., -0.9835,  1.2259,  0.2042],\n",
       "          [-0.7215,  1.1686,  0.3640,  ..., -0.6257, -0.6078, -1.3433],\n",
       "          ...,\n",
       "          [ 0.3491, -0.7149,  0.0300,  ..., -0.6117,  0.2091, -0.0496],\n",
       "          [ 2.6416,  1.6661,  1.4692,  ...,  0.8792,  0.2193,  1.4978],\n",
       "          [-0.6340,  0.9905, -0.2365,  ..., -0.5652,  1.0394,  0.3531]],\n",
       "\n",
       "         [[-0.3983,  1.6251,  1.0045,  ..., -1.5087,  1.5014,  0.6856],\n",
       "          [ 0.0301, -1.5657, -0.2797,  ...,  1.7210,  0.6967, -2.2263],\n",
       "          [ 0.6996, -1.3418, -1.4094,  ..., -0.1431, -1.9066, -0.8284],\n",
       "          ...,\n",
       "          [ 0.3794, -0.6553,  0.4028,  ..., -0.9175,  0.9486,  0.5296],\n",
       "          [ 0.0243,  0.6967,  0.3386,  ...,  1.2389, -1.3631,  1.4362],\n",
       "          [ 0.7873, -1.2902, -0.5334,  ...,  0.5213, -0.0782, -0.5108]],\n",
       "\n",
       "         [[-0.2699,  1.8156, -0.6903,  ..., -0.4563,  1.0345,  0.2741],\n",
       "          [-1.5224, -1.3721, -0.3543,  ..., -0.1500, -0.6029,  0.2032],\n",
       "          [-0.7554, -1.2369, -0.5643,  ...,  0.7902,  0.5598, -0.3632],\n",
       "          ...,\n",
       "          [ 0.1434,  0.0776,  2.0361,  ..., -1.1865, -0.0749,  0.5818],\n",
       "          [ 0.0090, -1.0159, -0.1893,  ..., -0.1930,  0.3332,  0.2319],\n",
       "          [ 1.0509, -1.0982,  1.0869,  ..., -0.1322, -0.6191, -1.0721]],\n",
       "\n",
       "         [[ 0.2076, -0.0307,  0.6356,  ...,  0.9330,  1.4026,  0.3637],\n",
       "          [-0.2583, -0.1030, -1.3427,  ...,  0.8425,  0.1435, -0.8551],\n",
       "          [-0.1249, -1.4441,  0.1315,  ...,  1.6693, -0.2337,  0.4656],\n",
       "          ...,\n",
       "          [ 1.3370,  0.6837, -0.1574,  ..., -0.2423, -2.1259,  0.7237],\n",
       "          [-1.1963,  0.6223,  0.4490,  ...,  0.0167, -1.2875, -0.2324],\n",
       "          [-0.6235,  0.0867,  0.0664,  ..., -0.0605,  0.3577, -1.7415]],\n",
       "\n",
       "         [[-0.6312,  0.0107,  0.3435,  ...,  1.5478, -0.3608,  2.0119],\n",
       "          [-0.4093,  0.3165, -0.1225,  ...,  0.4695,  0.1849, -0.5004],\n",
       "          [ 0.4338,  0.7290, -0.6684,  ...,  0.7309, -1.2212,  2.5599],\n",
       "          ...,\n",
       "          [-0.4666, -0.8465, -1.1900,  ...,  1.9616,  0.3715,  0.8052],\n",
       "          [ 0.1780, -1.3379,  1.1775,  ..., -0.7071, -1.5890,  1.2646],\n",
       "          [ 0.4637,  1.3938,  0.9875,  ...,  1.3578,  0.1610, -0.8070]],\n",
       "\n",
       "         [[ 0.5474, -0.2752, -0.9333,  ...,  0.9500,  0.1588,  0.0397],\n",
       "          [ 0.4268, -1.7546, -0.3560,  ..., -0.3219,  0.7774,  0.8394],\n",
       "          [-0.5072,  0.4251, -1.3124,  ...,  0.3686, -0.0515,  0.1446],\n",
       "          ...,\n",
       "          [-1.4139,  1.2827,  0.1846,  ...,  1.7131, -0.7387,  1.6308],\n",
       "          [ 0.6075,  0.1695,  0.9471,  ..., -0.8437,  0.6394, -0.3288],\n",
       "          [ 0.7069, -1.3000, -0.6983,  ..., -0.5438,  0.5610, -0.1677]]],\n",
       "\n",
       "\n",
       "        ...,\n",
       "\n",
       "\n",
       "        [[[ 0.3349, -0.2451,  0.8987,  ...,  0.5047,  0.1204, -0.2017],\n",
       "          [ 1.1924, -1.8378, -0.0344,  ..., -0.7016,  1.4991, -0.6430],\n",
       "          [-2.2637,  1.5022,  0.3222,  ..., -0.5970,  0.0279,  0.4436],\n",
       "          ...,\n",
       "          [-1.8722, -0.0645,  1.3731,  ..., -0.3733, -1.0769,  1.0888],\n",
       "          [ 0.7152,  0.6518, -0.0799,  ..., -1.2032,  0.0477,  0.5737],\n",
       "          [-0.2114, -1.8061,  1.1350,  ...,  1.4949,  1.0658,  0.8422]],\n",
       "\n",
       "         [[-0.1995,  1.3990,  0.8969,  ..., -1.0209, -0.3448,  1.2688],\n",
       "          [-1.4133, -1.3383,  1.1414,  ..., -3.5909, -1.1543,  1.3235],\n",
       "          [ 0.3654,  0.5720,  0.2095,  ...,  0.1011,  0.4605, -0.3867],\n",
       "          ...,\n",
       "          [-0.5638,  0.3542,  1.3964,  ..., -0.6790, -0.8318, -1.0152],\n",
       "          [-1.6152,  0.7560,  0.2073,  ..., -1.4981, -0.5664, -1.1868],\n",
       "          [ 0.2091,  0.4554,  0.5945,  ..., -1.3032,  1.4132,  1.3618]],\n",
       "\n",
       "         [[-0.5330,  0.2249, -1.1087,  ..., -0.0500, -0.3299, -0.8266],\n",
       "          [ 0.4704, -1.9614,  0.8523,  ...,  0.6316, -0.2016,  1.3692],\n",
       "          [ 2.2885, -1.1861,  0.0202,  ...,  0.3634,  0.8302, -0.4197],\n",
       "          ...,\n",
       "          [-0.8804, -0.2894,  1.4798,  ...,  0.6381,  2.5606, -0.2271],\n",
       "          [-1.2973,  0.4167,  1.0460,  ..., -2.3154,  0.8170,  0.9679],\n",
       "          [-1.0117,  1.8716,  0.8323,  ..., -0.5195, -0.3860,  2.6712]],\n",
       "\n",
       "         [[ 1.3020, -0.2262, -0.0438,  ...,  0.6682,  0.8101,  0.3147],\n",
       "          [-0.8454, -0.7429,  0.8815,  ..., -0.1162, -0.0766,  0.7197],\n",
       "          [ 0.1299,  0.7994,  0.5949,  ...,  1.5052, -0.5156,  0.3960],\n",
       "          ...,\n",
       "          [ 1.5971, -0.6773,  0.3970,  ..., -0.1751, -0.7041,  0.7771],\n",
       "          [ 1.8764,  0.1606,  0.4833,  ...,  0.0137, -0.8148,  0.5747],\n",
       "          [ 0.8924, -0.2926, -0.2948,  ...,  2.2776, -1.1579,  0.0315]],\n",
       "\n",
       "         [[ 1.3711,  1.2355, -0.3161,  ..., -0.2586,  0.2699,  1.2150],\n",
       "          [ 0.0620, -1.4151, -2.0772,  ...,  1.0630, -0.1684,  0.1657],\n",
       "          [ 0.0407, -1.0176,  0.2215,  ...,  0.9725,  1.2885, -1.1657],\n",
       "          ...,\n",
       "          [-1.6039,  0.2697, -1.0903,  ..., -0.3507,  1.5813, -1.6272],\n",
       "          [-2.0453, -0.3062, -1.1188,  ..., -1.1676, -0.6882, -2.2687],\n",
       "          [-1.0574,  0.6544, -0.1791,  ..., -0.4862, -0.0952, -0.0364]],\n",
       "\n",
       "         [[ 0.5768,  0.0804,  1.4781,  ...,  1.5464,  0.0317, -0.4084],\n",
       "          [-1.1984,  1.1504,  0.2460,  ..., -0.7037, -1.5774, -0.3223],\n",
       "          [ 0.7494, -0.4030, -1.3378,  ..., -1.1919, -0.9658, -0.9164],\n",
       "          ...,\n",
       "          [-0.2917,  0.6740, -0.5774,  ..., -0.6501, -0.5519, -0.3964],\n",
       "          [-1.2625,  0.9579,  0.5234,  ...,  0.2939, -0.0225, -0.3953],\n",
       "          [ 0.2568,  0.3437, -1.8330,  ...,  0.2660,  2.0482, -0.0278]]],\n",
       "\n",
       "\n",
       "        [[[-0.4787,  1.2913,  0.1010,  ..., -0.1345,  0.8432,  1.2832],\n",
       "          [-1.5374, -1.0770, -1.4131,  ..., -0.5403,  0.3223, -0.8249],\n",
       "          [ 0.0326, -0.2669, -1.7267,  ..., -0.8947, -0.4503,  0.4371],\n",
       "          ...,\n",
       "          [ 0.4666, -0.4511,  0.0768,  ...,  0.3120, -0.3731, -1.6192],\n",
       "          [-0.6046, -0.3230, -0.6739,  ...,  0.6864, -0.3385, -0.8746],\n",
       "          [-2.5862,  0.3975, -0.1800,  ..., -0.7460, -1.8828,  0.2081]],\n",
       "\n",
       "         [[-1.1560,  1.4845,  0.7795,  ..., -0.2176, -0.0283, -0.7995],\n",
       "          [-0.5849,  0.1694, -0.4926,  ...,  1.2059, -0.5606, -1.7297],\n",
       "          [-1.7657, -0.6301,  0.0086,  ...,  0.5390,  1.2273,  0.8740],\n",
       "          ...,\n",
       "          [-0.0763,  1.4950, -1.3590,  ..., -0.7231,  0.6753,  0.6474],\n",
       "          [-0.1607,  0.4539,  0.7777,  ..., -0.0969, -0.8531, -0.0138],\n",
       "          [-1.2827, -0.3283, -0.8187,  ...,  0.8598,  0.0278,  0.1475]],\n",
       "\n",
       "         [[-2.9962,  0.2166, -1.6174,  ..., -0.1629, -1.3172,  0.9131],\n",
       "          [ 0.8062, -0.5466, -1.0189,  ..., -0.4689, -0.5319, -0.1794],\n",
       "          [-1.0217, -0.0666,  1.0291,  ..., -0.1299, -1.1243, -0.7529],\n",
       "          ...,\n",
       "          [-0.8037,  1.6782, -0.5837,  ..., -1.0070, -0.2071, -1.5089],\n",
       "          [-0.9827,  0.6139,  1.5810,  ..., -0.5921,  0.1689, -1.2583],\n",
       "          [-0.1984,  0.6487, -1.6289,  ...,  0.2955,  0.1975, -0.7851]],\n",
       "\n",
       "         [[-1.1420, -0.2681,  0.8447,  ..., -0.4811,  0.0585,  0.5224],\n",
       "          [-1.0016,  0.4014, -0.2472,  ...,  1.2684,  0.4124,  1.5690],\n",
       "          [ 0.4508,  1.9715,  1.3477,  ..., -0.0746, -1.3737,  1.5860],\n",
       "          ...,\n",
       "          [ 0.1086,  0.3323, -0.4842,  ..., -1.6996,  0.9981, -1.4118],\n",
       "          [-0.3505,  1.2233,  1.1930,  ...,  0.9930, -1.6479, -0.6947],\n",
       "          [ 1.3768, -0.8475,  0.4043,  ...,  1.3260,  1.2637,  1.3240]],\n",
       "\n",
       "         [[-2.7971, -0.1586,  0.9672,  ..., -0.5309,  0.4407,  0.2810],\n",
       "          [ 0.2569,  0.6674, -0.1337,  ...,  1.5187, -0.2989, -0.4588],\n",
       "          [ 1.0876,  0.0086, -1.7038,  ...,  1.4289, -1.0016,  0.0763],\n",
       "          ...,\n",
       "          [-0.6925, -0.1275, -0.3557,  ...,  1.3412,  0.6436,  0.1103],\n",
       "          [ 1.5050,  0.0436,  0.2622,  ...,  0.5188, -1.5819,  0.5363],\n",
       "          [-0.8298,  0.7751,  0.1058,  ...,  2.1883, -2.2826,  1.4450]],\n",
       "\n",
       "         [[-1.0511,  1.3874, -0.8601,  ..., -0.8627, -0.0340, -0.1667],\n",
       "          [ 0.5392, -0.4822,  0.5224,  ..., -0.6890, -0.4361, -0.1392],\n",
       "          [ 0.4591,  0.3580, -0.5652,  ...,  1.5412,  1.1106, -0.2546],\n",
       "          ...,\n",
       "          [-0.6584, -0.2714, -2.3518,  ..., -0.4076, -1.1444, -1.1143],\n",
       "          [ 0.4277,  0.0549,  1.4778,  ..., -1.4043, -1.2081, -0.5516],\n",
       "          [-1.1542, -0.4839,  1.2498,  ..., -0.2459, -0.3682, -1.6856]]],\n",
       "\n",
       "\n",
       "        [[[ 0.7049,  1.7429, -0.7710,  ..., -0.0463, -0.6168,  1.3004],\n",
       "          [ 1.9349,  0.3096, -1.2546,  ..., -0.6837, -0.7692,  0.6200],\n",
       "          [ 1.1989,  0.3894,  0.2508,  ...,  0.7074,  0.2667,  0.6760],\n",
       "          ...,\n",
       "          [ 0.3065,  0.3367, -0.2811,  ...,  0.0139,  0.4008,  1.8795],\n",
       "          [ 0.7614,  0.4609,  0.8460,  ..., -0.4184, -0.8078,  1.7830],\n",
       "          [-0.2809, -0.5920, -1.3147,  ...,  2.1509, -0.2698, -0.1763]],\n",
       "\n",
       "         [[-0.3160, -0.6290, -0.7742,  ...,  0.3055,  1.8747, -2.2426],\n",
       "          [ 2.0726,  0.8131, -0.5138,  ..., -1.3017, -0.9905, -0.3776],\n",
       "          [ 1.4544,  0.4309, -0.1839,  ..., -1.3758, -0.9975,  0.4233],\n",
       "          ...,\n",
       "          [ 0.5167, -0.5152,  0.8601,  ..., -0.1676, -2.4835, -0.7417],\n",
       "          [ 0.5365,  0.1861, -0.9925,  ..., -0.2473,  0.7582,  0.3675],\n",
       "          [ 0.9873,  0.5345,  1.6033,  ..., -1.8283,  2.3802, -0.8784]],\n",
       "\n",
       "         [[-0.8310, -1.3670, -0.4132,  ..., -0.1507,  0.0606,  0.6877],\n",
       "          [ 0.0799,  0.0784, -0.6010,  ..., -0.3323,  2.1323,  0.2135],\n",
       "          [ 0.9822, -0.6581, -0.2547,  ...,  0.4580, -0.2866, -0.8093],\n",
       "          ...,\n",
       "          [-0.1871, -1.1732,  2.0744,  ...,  0.0633, -0.5691,  0.2644],\n",
       "          [-0.3534,  2.1338, -0.4921,  ...,  2.1969, -0.7809,  0.1532],\n",
       "          [ 0.3879,  1.4246,  0.6313,  ...,  0.9508, -0.5910, -0.0819]],\n",
       "\n",
       "         [[-0.2815,  0.8929,  0.7244,  ...,  0.1159,  0.0539, -1.0605],\n",
       "          [-0.4637, -0.1739,  1.2255,  ..., -0.5384, -1.2260, -0.1510],\n",
       "          [ 0.7113, -0.6161,  0.9611,  ..., -0.5094, -0.1135,  0.3111],\n",
       "          ...,\n",
       "          [-0.3711, -0.5113, -0.0432,  ...,  1.9441,  0.6365, -0.3293],\n",
       "          [ 0.6259, -0.1729, -1.7221,  ..., -0.0602,  0.6773,  2.4251],\n",
       "          [-0.4283,  1.0511, -1.1110,  ...,  0.0456,  0.6096, -2.2852]],\n",
       "\n",
       "         [[ 0.4195, -1.8507, -0.4619,  ...,  0.1268,  0.9952, -0.2493],\n",
       "          [ 0.9324,  1.3045, -0.1141,  ..., -0.6475,  1.2273, -0.9547],\n",
       "          [-1.7187, -0.4341, -0.9102,  ...,  1.4661,  0.4519,  0.8408],\n",
       "          ...,\n",
       "          [ 0.2643,  0.3071,  1.4291,  ...,  0.1424, -1.4459, -1.3406],\n",
       "          [ 0.1895, -0.6953, -0.2212,  ..., -0.0191,  3.2398,  1.1756],\n",
       "          [-0.2628, -0.9370,  1.4552,  ..., -0.9679,  0.0991, -2.8267]],\n",
       "\n",
       "         [[-1.0209, -0.9158,  0.2757,  ..., -0.4446,  1.4888, -0.3654],\n",
       "          [ 0.3294, -0.0205, -0.8241,  ..., -0.1331, -0.5480, -0.1674],\n",
       "          [ 0.2361,  0.2629, -1.2113,  ..., -1.2792,  1.0420, -0.4219],\n",
       "          ...,\n",
       "          [-0.2100, -2.0005, -0.9176,  ..., -0.1167, -0.5826, -3.1519],\n",
       "          [-0.2024,  0.9425,  1.3649,  ...,  0.2136, -0.8400,  0.0541],\n",
       "          [-0.4004, -0.0247, -0.3226,  ...,  0.4801,  0.9534,  0.1372]]]],\n",
       "       grad_fn=<AddcmulBackward>)"
      ]
     },
     "execution_count": 128,
     "metadata": {},
     "output_type": "execute_result"
    }
   ],
   "source": [
    "input = torch.randn(20, 6, 10, 10)\n",
    "# Separate 6 channels into 3 groups\n",
    "m = torch.nn.GroupNorm(3, 6)\n",
    "# Separate 6 channels into 6 groups (equivalent with InstanceNorm)\n",
    "m = torch.nn.GroupNorm(6, 6)\n",
    "# Put all 6 channels into a single group (equivalent with LayerNorm)\n",
    "m = torch.nn.GroupNorm(1, 6)\n",
    "# Activating the module\n",
    "output = m(input)\n",
    "output"
   ]
  },
  {
   "cell_type": "code",
   "execution_count": null,
   "metadata": {},
   "outputs": [],
   "source": []
  },
  {
   "cell_type": "markdown",
   "metadata": {},
   "source": [
    "feature map"
   ]
  },
  {
   "cell_type": "code",
   "execution_count": 7,
   "metadata": {},
   "outputs": [
    {
     "data": {
      "text/plain": [
       "device(type='cpu')"
      ]
     },
     "execution_count": 7,
     "metadata": {},
     "output_type": "execute_result"
    }
   ],
   "source": [
    "import torch as t\n",
    "import torchvision as tv\n",
    "import matplotlib.pyplot as plt\n",
    "import numpy as np\n",
    "from sklearn.decomposition import PCA\n",
    "import torch.nn.functional as F\n",
    "from datetime import datetime\n",
    "from torch.autograd import Variable\n",
    "from torchvision.utils import save_image\n",
    "import imageio\n",
    "import os\n",
    "import math\n",
    "seed = 7\n",
    "device = t.device('cuda:0' if t.cuda.is_available() else 'cpu')\n",
    "device"
   ]
  },
  {
   "cell_type": "code",
   "execution_count": 8,
   "metadata": {},
   "outputs": [
    {
     "name": "stdout",
     "output_type": "stream",
     "text": [
      "Files already downloaded and verified\n",
      "Files already downloaded and verified\n"
     ]
    }
   ],
   "source": [
    "transform = tv.transforms.Compose([tv.transforms.ToTensor()])\n",
    "\n",
    "train_data = tv.datasets.CIFAR10(\"data/train\",train=True, download=True, transform = transform)\n",
    "test_data = tv.datasets.CIFAR10(\"data/test\",train=False,download=True,transform=transform)\n",
    "\n",
    "# kwargs = {'num_workers': 10, 'pin_memory': True} # GPU\n",
    "kwargs = {} # CPU\n",
    "batch_size = 32\n",
    "\n",
    "train_loader = t.utils.data.DataLoader(train_data,batch_size=batch_size,shuffle=True,**kwargs)\n",
    "test_loader = t.utils.data.DataLoader(test_data,batch_size=batch_size,shuffle=True,**kwargs)"
   ]
  },
  {
   "cell_type": "code",
   "execution_count": 9,
   "metadata": {},
   "outputs": [],
   "source": [
    "class RandomModel(t.nn.Module):\n",
    "    \n",
    "    def __init__(self):\n",
    "        super(RandomModel,self).__init__()\n",
    "        self.conv1 = t.nn.Conv2d(3,32,3,1)\n",
    "        self.conv2 = t.nn.Conv2d(32,64,3,1)\n",
    "        self.fc1 = t.nn.Linear(64*28*28,128)\n",
    "        self.fc2 = t.nn.Linear(128,10)\n",
    "        \n",
    "    def forward(self,x):\n",
    "        x = F.relu(self.conv1(x))\n",
    "        x = F.relu(self.conv2(x))\n",
    "        \n",
    "        x = x.view(x.shape[0],64*28*28)\n",
    "        \n",
    "        x = F.relu(self.fc1(x))\n",
    "        x = self.fc2(x)\n",
    "        \n",
    "        return x\n",
    "    \n",
    "t.manual_seed(seed)\n",
    "model = RandomModel().to(device)"
   ]
  },
  {
   "cell_type": "code",
   "execution_count": 10,
   "metadata": {},
   "outputs": [
    {
     "data": {
      "text/plain": [
       "Conv2d(3, 32, kernel_size=(3, 3), stride=(1, 1))"
      ]
     },
     "execution_count": 10,
     "metadata": {},
     "output_type": "execute_result"
    }
   ],
   "source": [
    "model.conv1"
   ]
  },
  {
   "cell_type": "code",
   "execution_count": 11,
   "metadata": {},
   "outputs": [
    {
     "data": {
      "text/plain": [
       "tensor([[[ 0.0134, -0.1159,  0.0613],\n",
       "         [ 0.0604, -0.1029, -0.0288],\n",
       "         [-0.1127,  0.0499, -0.0518]],\n",
       "\n",
       "        [[ 0.1352,  0.1366,  0.0196],\n",
       "         [-0.0820, -0.1130, -0.0211],\n",
       "         [-0.0542,  0.0848, -0.1643]],\n",
       "\n",
       "        [[ 0.1809, -0.1510,  0.1474],\n",
       "         [-0.0334,  0.0990,  0.0750],\n",
       "         [ 0.0081,  0.0359,  0.1461]]], grad_fn=<SelectBackward>)"
      ]
     },
     "execution_count": 11,
     "metadata": {},
     "output_type": "execute_result"
    }
   ],
   "source": [
    "model.conv1.weight[0]"
   ]
  },
  {
   "cell_type": "code",
   "execution_count": 12,
   "metadata": {},
   "outputs": [
    {
     "name": "stdout",
     "output_type": "stream",
     "text": [
      "The sample data shape is  torch.Size([32, 3, 32, 32]) torch.Size([32])\n"
     ]
    }
   ],
   "source": [
    "sampleX,sampleY = iter(train_loader).next()\n",
    "print(\"The sample data shape is \",sampleX.shape,sampleY.shape)"
   ]
  },
  {
   "cell_type": "code",
   "execution_count": 13,
   "metadata": {},
   "outputs": [
    {
     "data": {
      "text/plain": [
       "torch.Size([1, 3, 32, 32])"
      ]
     },
     "execution_count": 13,
     "metadata": {},
     "output_type": "execute_result"
    }
   ],
   "source": [
    "sampleX[0:1].shape"
   ]
  },
  {
   "cell_type": "code",
   "execution_count": 14,
   "metadata": {},
   "outputs": [
    {
     "data": {
      "text/plain": [
       "torch.Size([1, 32, 30, 30])"
      ]
     },
     "execution_count": 14,
     "metadata": {},
     "output_type": "execute_result"
    }
   ],
   "source": [
    "feature_maps = model.conv1(sampleX[0:1])\n",
    "feature_maps.shape"
   ]
  },
  {
   "cell_type": "code",
   "execution_count": 15,
   "metadata": {},
   "outputs": [
    {
     "data": {
      "text/plain": [
       "<matplotlib.image.AxesImage at 0x7fd680daec18>"
      ]
     },
     "execution_count": 15,
     "metadata": {},
     "output_type": "execute_result"
    },
    {
     "data": {
      "image/png": "[encoded data removed]",
      "text/plain": [
       "<Figure size 432x288 with 1 Axes>"
      ]
     },
     "metadata": {
      "needs_background": "light"
     },
     "output_type": "display_data"
    }
   ],
   "source": [
    "plt.imshow(sampleX[0].detach().numpy().transpose([1,2,0]))"
   ]
  },
  {
   "cell_type": "code",
   "execution_count": 16,
   "metadata": {},
   "outputs": [
    {
     "data": {
      "text/plain": [
       "<matplotlib.image.AxesImage at 0x7fd68a241ba8>"
      ]
     },
     "execution_count": 16,
     "metadata": {},
     "output_type": "execute_result"
    },
    {
     "data": {
      "image/png": "[encoded data removed]",
      "text/plain": [
       "<Figure size 432x288 with 1 Axes>"
      ]
     },
     "metadata": {
      "needs_background": "light"
     },
     "output_type": "display_data"
    }
   ],
   "source": [
    "plt.imshow(feature_maps[0][0].detach().numpy())"
   ]
  },
  {
   "cell_type": "code",
   "execution_count": 31,
   "metadata": {},
   "outputs": [],
   "source": [
    "class RandomModel(t.nn.Module):\n",
    "    \n",
    "    def __init__(self):\n",
    "        super(RandomModel,self).__init__()\n",
    "        \n",
    "        self.shared = t.nn.Sequential(\n",
    "            t.nn.Linear(64*28*28,128),\n",
    "            t.nn.ReLU(),\n",
    "            t.nn.Linear(128,10)\n",
    "        )\n",
    "        \n",
    "        self.model1 = t.nn.Sequential(\n",
    "            t.nn.Conv2d(3,32,3,1),\n",
    "            t.nn.ReLU(),\n",
    "            t.nn.Conv2d(32,64,3,1),\n",
    "            t.nn.ReLU()\n",
    "            \n",
    "        )\n",
    "        \n",
    "        self.model2 = t.nn.Sequential(\n",
    "            t.nn.Conv2d(3,16,3,1),\n",
    "            t.nn.ReLU(),\n",
    "            t.nn.Conv2d(16,32,3,1),\n",
    "            t.nn.ReLU(),\n",
    "            t.nn.Conv2d(32,64,1,1),\n",
    "            t.nn.ReLU()\n",
    "        )\n",
    "        \n",
    "    def forward(self,x):\n",
    "        \n",
    "        m1 = self.model1(x)\n",
    "        m1 = m1.view(m1.shape[0],64*28*28)\n",
    "        m1 = self.shared(m1)\n",
    "        \n",
    "        m2 = self.model2(x)\n",
    "        m2 = m2.view(m2.shape[0],64*28*28)\n",
    "        m2 = self.shared(m2)\n",
    "        \n",
    "        \n",
    "        return m1,m2\n"
   ]
  },
  {
   "cell_type": "code",
   "execution_count": 32,
   "metadata": {},
   "outputs": [],
   "source": [
    "t.manual_seed(seed)\n",
    "model = RandomModel().to(device)"
   ]
  },
  {
   "cell_type": "code",
   "execution_count": 33,
   "metadata": {},
   "outputs": [
    {
     "data": {
      "image/svg+xml": [
       "<?xml version=\"1.0\" encoding=\"UTF-8\" standalone=\"no\"?>\n",
       "<!DOCTYPE svg PUBLIC \"-//W3C//DTD SVG 1.1//EN\"\n",
       " \"http://www.w3.org/Graphics/SVG/1.1/DTD/svg11.dtd\">\n",
       "<!-- Generated by graphviz version 2.40.1 (20161225.0304)\n",
       " -->\n",
       "<!-- Title: %3 Pages: 1 -->\n",
       "<svg width=\"864pt\" height=\"681pt\"\n",
       " viewBox=\"0.00 0.00 864.00 680.94\" xmlns=\"http://www.w3.org/2000/svg\" xmlns:xlink=\"http://www.w3.org/1999/xlink\">\n",
       "<g id=\"graph0\" class=\"graph\" transform=\"scale(.9869 .9869) rotate(0) translate(4 686)\">\n",
       "<title>%3</title>\n",
       "<polygon fill=\"#ffffff\" stroke=\"transparent\" points=\"-4,4 -4,-686 871.5,-686 871.5,4 -4,4\"/>\n",
       "<!-- 140559256612480 -->\n",
       "<g id=\"node1\" class=\"node\">\n",
       "<title>140559256612480</title>\n",
       "<polygon fill=\"#caff70\" stroke=\"#000000\" points=\"648,-21 544,-21 544,0 648,0 648,-21\"/>\n",
       "<text text-anchor=\"middle\" x=\"596\" y=\"-7.4\" font-family=\"Times,serif\" font-size=\"12.00\" fill=\"#000000\">AddmmBackward</text>\n",
       "</g>\n",
       "<!-- 140559251617384 -->\n",
       "<g id=\"node2\" class=\"node\">\n",
       "<title>140559251617384</title>\n",
       "<polygon fill=\"#add8e6\" stroke=\"#000000\" points=\"541,-91 463,-91 463,-57 541,-57 541,-91\"/>\n",
       "<text text-anchor=\"middle\" x=\"502\" y=\"-77.4\" font-family=\"Times,serif\" font-size=\"12.00\" fill=\"#000000\">shared.2.bias</text>\n",
       "<text text-anchor=\"middle\" x=\"502\" y=\"-64.4\" font-family=\"Times,serif\" font-size=\"12.00\" fill=\"#000000\"> (10)</text>\n",
       "</g>\n",
       "<!-- 140559251617384&#45;&gt;140559256612480 -->\n",
       "<g id=\"edge1\" class=\"edge\">\n",
       "<title>140559251617384&#45;&gt;140559256612480</title>\n",
       "<path fill=\"none\" stroke=\"#000000\" d=\"M527.1903,-56.9832C541.0196,-47.641 558.0859,-36.1122 571.7623,-26.8734\"/>\n",
       "<polygon fill=\"#000000\" stroke=\"#000000\" points=\"573.8648,-29.6769 580.192,-21.1788 569.9463,-23.8764 573.8648,-29.6769\"/>\n",
       "</g>\n",
       "<!-- 140559251619792 -->\n",
       "<g id=\"node19\" class=\"node\">\n",
       "<title>140559251619792</title>\n",
       "<polygon fill=\"#caff70\" stroke=\"#000000\" points=\"460,-21 356,-21 356,0 460,0 460,-21\"/>\n",
       "<text text-anchor=\"middle\" x=\"408\" y=\"-7.4\" font-family=\"Times,serif\" font-size=\"12.00\" fill=\"#000000\">AddmmBackward</text>\n",
       "</g>\n",
       "<!-- 140559251617384&#45;&gt;140559251619792 -->\n",
       "<g id=\"edge18\" class=\"edge\">\n",
       "<title>140559251617384&#45;&gt;140559251619792</title>\n",
       "<path fill=\"none\" stroke=\"#000000\" d=\"M476.8097,-56.9832C462.9804,-47.641 445.9141,-36.1122 432.2377,-26.8734\"/>\n",
       "<polygon fill=\"#000000\" stroke=\"#000000\" points=\"434.0537,-23.8764 423.808,-21.1788 430.1352,-29.6769 434.0537,-23.8764\"/>\n",
       "</g>\n",
       "<!-- 140559251616152 -->\n",
       "<g id=\"node3\" class=\"node\">\n",
       "<title>140559251616152</title>\n",
       "<polygon fill=\"#d3d3d3\" stroke=\"#000000\" points=\"745,-84.5 651,-84.5 651,-63.5 745,-63.5 745,-84.5\"/>\n",
       "<text text-anchor=\"middle\" x=\"698\" y=\"-70.9\" font-family=\"Times,serif\" font-size=\"12.00\" fill=\"#000000\">ReluBackward0</text>\n",
       "</g>\n",
       "<!-- 140559251616152&#45;&gt;140559256612480 -->\n",
       "<g id=\"edge2\" class=\"edge\">\n",
       "<title>140559251616152&#45;&gt;140559256612480</title>\n",
       "<path fill=\"none\" stroke=\"#000000\" d=\"M680.6971,-63.2281C664.4805,-53.1325 640.0365,-37.9149 621.5702,-26.4187\"/>\n",
       "<polygon fill=\"#000000\" stroke=\"#000000\" points=\"623.3865,-23.4266 613.0474,-21.1128 619.6869,-29.3692 623.3865,-23.4266\"/>\n",
       "</g>\n",
       "<!-- 140559251617440 -->\n",
       "<g id=\"node4\" class=\"node\">\n",
       "<title>140559251617440</title>\n",
       "<polygon fill=\"#d3d3d3\" stroke=\"#000000\" points=\"712,-154.5 608,-154.5 608,-133.5 712,-133.5 712,-154.5\"/>\n",
       "<text text-anchor=\"middle\" x=\"660\" y=\"-140.9\" font-family=\"Times,serif\" font-size=\"12.00\" fill=\"#000000\">AddmmBackward</text>\n",
       "</g>\n",
       "<!-- 140559251617440&#45;&gt;140559251616152 -->\n",
       "<g id=\"edge3\" class=\"edge\">\n",
       "<title>140559251617440&#45;&gt;140559251616152</title>\n",
       "<path fill=\"none\" stroke=\"#000000\" d=\"M665.7714,-133.3685C671.4629,-122.8841 680.2984,-106.6083 687.2798,-93.7478\"/>\n",
       "<polygon fill=\"#000000\" stroke=\"#000000\" points=\"690.4793,-95.1899 692.1743,-84.7315 684.3273,-91.8503 690.4793,-95.1899\"/>\n",
       "</g>\n",
       "<!-- 140559251616096 -->\n",
       "<g id=\"node5\" class=\"node\">\n",
       "<title>140559251616096</title>\n",
       "<polygon fill=\"#add8e6\" stroke=\"#000000\" points=\"562,-231 484,-231 484,-197 562,-197 562,-231\"/>\n",
       "<text text-anchor=\"middle\" x=\"523\" y=\"-217.4\" font-family=\"Times,serif\" font-size=\"12.00\" fill=\"#000000\">shared.0.bias</text>\n",
       "<text text-anchor=\"middle\" x=\"523\" y=\"-204.4\" font-family=\"Times,serif\" font-size=\"12.00\" fill=\"#000000\"> (128)</text>\n",
       "</g>\n",
       "<!-- 140559251616096&#45;&gt;140559251617440 -->\n",
       "<g id=\"edge4\" class=\"edge\">\n",
       "<title>140559251616096&#45;&gt;140559251617440</title>\n",
       "<path fill=\"none\" stroke=\"#000000\" d=\"M556.514,-196.8761C579.0095,-185.382 608.3862,-170.372 630.0908,-159.2821\"/>\n",
       "<polygon fill=\"#000000\" stroke=\"#000000\" points=\"631.8628,-162.3072 639.1752,-154.6404 628.6777,-156.0737 631.8628,-162.3072\"/>\n",
       "</g>\n",
       "<!-- 140559251619568 -->\n",
       "<g id=\"node21\" class=\"node\">\n",
       "<title>140559251619568</title>\n",
       "<polygon fill=\"#d3d3d3\" stroke=\"#000000\" points=\"438,-154.5 334,-154.5 334,-133.5 438,-133.5 438,-154.5\"/>\n",
       "<text text-anchor=\"middle\" x=\"386\" y=\"-140.9\" font-family=\"Times,serif\" font-size=\"12.00\" fill=\"#000000\">AddmmBackward</text>\n",
       "</g>\n",
       "<!-- 140559251616096&#45;&gt;140559251619568 -->\n",
       "<g id=\"edge21\" class=\"edge\">\n",
       "<title>140559251616096&#45;&gt;140559251619568</title>\n",
       "<path fill=\"none\" stroke=\"#000000\" d=\"M489.486,-196.8761C466.9905,-185.382 437.6138,-170.372 415.9092,-159.2821\"/>\n",
       "<polygon fill=\"#000000\" stroke=\"#000000\" points=\"417.3223,-156.0737 406.8248,-154.6404 414.1372,-162.3072 417.3223,-156.0737\"/>\n",
       "</g>\n",
       "<!-- 140559251618392 -->\n",
       "<g id=\"node6\" class=\"node\">\n",
       "<title>140559251618392</title>\n",
       "<polygon fill=\"#d3d3d3\" stroke=\"#000000\" points=\"764,-224.5 672,-224.5 672,-203.5 764,-203.5 764,-224.5\"/>\n",
       "<text text-anchor=\"middle\" x=\"718\" y=\"-210.9\" font-family=\"Times,serif\" font-size=\"12.00\" fill=\"#000000\">ViewBackward</text>\n",
       "</g>\n",
       "<!-- 140559251618392&#45;&gt;140559251617440 -->\n",
       "<g id=\"edge5\" class=\"edge\">\n",
       "<title>140559251618392&#45;&gt;140559251617440</title>\n",
       "<path fill=\"none\" stroke=\"#000000\" d=\"M709.191,-203.3685C700.2485,-192.5758 686.2208,-175.6458 675.4298,-162.6221\"/>\n",
       "<polygon fill=\"#000000\" stroke=\"#000000\" points=\"677.9671,-160.1987 668.8919,-154.7315 672.577,-164.6649 677.9671,-160.1987\"/>\n",
       "</g>\n",
       "<!-- 140559251618560 -->\n",
       "<g id=\"node7\" class=\"node\">\n",
       "<title>140559251618560</title>\n",
       "<polygon fill=\"#d3d3d3\" stroke=\"#000000\" points=\"765,-294.5 671,-294.5 671,-273.5 765,-273.5 765,-294.5\"/>\n",
       "<text text-anchor=\"middle\" x=\"718\" y=\"-280.9\" font-family=\"Times,serif\" font-size=\"12.00\" fill=\"#000000\">ReluBackward0</text>\n",
       "</g>\n",
       "<!-- 140559251618560&#45;&gt;140559251618392 -->\n",
       "<g id=\"edge6\" class=\"edge\">\n",
       "<title>140559251618560&#45;&gt;140559251618392</title>\n",
       "<path fill=\"none\" stroke=\"#000000\" d=\"M718,-273.3685C718,-263.1925 718,-247.5606 718,-234.8912\"/>\n",
       "<polygon fill=\"#000000\" stroke=\"#000000\" points=\"721.5001,-234.7315 718,-224.7315 714.5001,-234.7316 721.5001,-234.7315\"/>\n",
       "</g>\n",
       "<!-- 140559251618784 -->\n",
       "<g id=\"node8\" class=\"node\">\n",
       "<title>140559251618784</title>\n",
       "<polygon fill=\"#d3d3d3\" stroke=\"#000000\" points=\"799,-358 637,-358 637,-337 799,-337 799,-358\"/>\n",
       "<text text-anchor=\"middle\" x=\"718\" y=\"-344.4\" font-family=\"Times,serif\" font-size=\"12.00\" fill=\"#000000\">MkldnnConvolutionBackward</text>\n",
       "</g>\n",
       "<!-- 140559251618784&#45;&gt;140559251618560 -->\n",
       "<g id=\"edge7\" class=\"edge\">\n",
       "<title>140559251618784&#45;&gt;140559251618560</title>\n",
       "<path fill=\"none\" stroke=\"#000000\" d=\"M718,-336.7281C718,-328.0091 718,-315.4699 718,-304.8068\"/>\n",
       "<polygon fill=\"#000000\" stroke=\"#000000\" points=\"721.5001,-304.6128 718,-294.6128 714.5001,-304.6129 721.5001,-304.6128\"/>\n",
       "</g>\n",
       "<!-- 140559251617048 -->\n",
       "<g id=\"node9\" class=\"node\">\n",
       "<title>140559251617048</title>\n",
       "<polygon fill=\"#d3d3d3\" stroke=\"#000000\" points=\"652,-421.5 558,-421.5 558,-400.5 652,-400.5 652,-421.5\"/>\n",
       "<text text-anchor=\"middle\" x=\"605\" y=\"-407.9\" font-family=\"Times,serif\" font-size=\"12.00\" fill=\"#000000\">ReluBackward0</text>\n",
       "</g>\n",
       "<!-- 140559251617048&#45;&gt;140559251618784 -->\n",
       "<g id=\"edge8\" class=\"edge\">\n",
       "<title>140559251617048&#45;&gt;140559251618784</title>\n",
       "<path fill=\"none\" stroke=\"#000000\" d=\"M623.9137,-400.3715C642.0025,-390.2066 669.4981,-374.7555 690.1017,-363.1774\"/>\n",
       "<polygon fill=\"#000000\" stroke=\"#000000\" points=\"692.0215,-366.1134 699.0246,-358.1631 688.5922,-360.0109 692.0215,-366.1134\"/>\n",
       "</g>\n",
       "<!-- 140559251619344 -->\n",
       "<g id=\"node10\" class=\"node\">\n",
       "<title>140559251619344</title>\n",
       "<polygon fill=\"#d3d3d3\" stroke=\"#000000\" points=\"686,-485 524,-485 524,-464 686,-464 686,-485\"/>\n",
       "<text text-anchor=\"middle\" x=\"605\" y=\"-471.4\" font-family=\"Times,serif\" font-size=\"12.00\" fill=\"#000000\">MkldnnConvolutionBackward</text>\n",
       "</g>\n",
       "<!-- 140559251619344&#45;&gt;140559251617048 -->\n",
       "<g id=\"edge9\" class=\"edge\">\n",
       "<title>140559251619344&#45;&gt;140559251617048</title>\n",
       "<path fill=\"none\" stroke=\"#000000\" d=\"M605,-463.7281C605,-455.0091 605,-442.4699 605,-431.8068\"/>\n",
       "<polygon fill=\"#000000\" stroke=\"#000000\" points=\"608.5001,-431.6128 605,-421.6128 601.5001,-431.6129 608.5001,-431.6128\"/>\n",
       "</g>\n",
       "<!-- 140559251619232 -->\n",
       "<g id=\"node11\" class=\"node\">\n",
       "<title>140559251619232</title>\n",
       "<polygon fill=\"#add8e6\" stroke=\"#000000\" points=\"707,-555 611,-555 611,-521 707,-521 707,-555\"/>\n",
       "<text text-anchor=\"middle\" x=\"659\" y=\"-541.4\" font-family=\"Times,serif\" font-size=\"12.00\" fill=\"#000000\">model1.0.weight</text>\n",
       "<text text-anchor=\"middle\" x=\"659\" y=\"-528.4\" font-family=\"Times,serif\" font-size=\"12.00\" fill=\"#000000\"> (32, 3, 3, 3)</text>\n",
       "</g>\n",
       "<!-- 140559251619232&#45;&gt;140559251619344 -->\n",
       "<g id=\"edge10\" class=\"edge\">\n",
       "<title>140559251619232&#45;&gt;140559251619344</title>\n",
       "<path fill=\"none\" stroke=\"#000000\" d=\"M644.529,-520.9832C637.2371,-512.4085 628.3787,-501.9916 620.8974,-493.1942\"/>\n",
       "<polygon fill=\"#000000\" stroke=\"#000000\" points=\"623.3872,-490.7192 614.2426,-485.3687 618.0546,-495.254 623.3872,-490.7192\"/>\n",
       "</g>\n",
       "<!-- 140559251618672 -->\n",
       "<g id=\"node12\" class=\"node\">\n",
       "<title>140559251618672</title>\n",
       "<polygon fill=\"#add8e6\" stroke=\"#000000\" points=\"592.5,-555 509.5,-555 509.5,-521 592.5,-521 592.5,-555\"/>\n",
       "<text text-anchor=\"middle\" x=\"551\" y=\"-541.4\" font-family=\"Times,serif\" font-size=\"12.00\" fill=\"#000000\">model1.0.bias</text>\n",
       "<text text-anchor=\"middle\" x=\"551\" y=\"-528.4\" font-family=\"Times,serif\" font-size=\"12.00\" fill=\"#000000\"> (32)</text>\n",
       "</g>\n",
       "<!-- 140559251618672&#45;&gt;140559251619344 -->\n",
       "<g id=\"edge11\" class=\"edge\">\n",
       "<title>140559251618672&#45;&gt;140559251619344</title>\n",
       "<path fill=\"none\" stroke=\"#000000\" d=\"M565.471,-520.9832C572.7629,-512.4085 581.6213,-501.9916 589.1026,-493.1942\"/>\n",
       "<polygon fill=\"#000000\" stroke=\"#000000\" points=\"591.9454,-495.254 595.7574,-485.3687 586.6128,-490.7192 591.9454,-495.254\"/>\n",
       "</g>\n",
       "<!-- 140559251616040 -->\n",
       "<g id=\"node13\" class=\"node\">\n",
       "<title>140559251616040</title>\n",
       "<polygon fill=\"#add8e6\" stroke=\"#000000\" points=\"766,-428 670,-428 670,-394 766,-394 766,-428\"/>\n",
       "<text text-anchor=\"middle\" x=\"718\" y=\"-414.4\" font-family=\"Times,serif\" font-size=\"12.00\" fill=\"#000000\">model1.2.weight</text>\n",
       "<text text-anchor=\"middle\" x=\"718\" y=\"-401.4\" font-family=\"Times,serif\" font-size=\"12.00\" fill=\"#000000\"> (64, 32, 3, 3)</text>\n",
       "</g>\n",
       "<!-- 140559251616040&#45;&gt;140559251618784 -->\n",
       "<g id=\"edge12\" class=\"edge\">\n",
       "<title>140559251616040&#45;&gt;140559251618784</title>\n",
       "<path fill=\"none\" stroke=\"#000000\" d=\"M718,-393.9832C718,-386.1157 718,-376.6973 718,-368.4019\"/>\n",
       "<polygon fill=\"#000000\" stroke=\"#000000\" points=\"721.5001,-368.3686 718,-358.3687 714.5001,-368.3687 721.5001,-368.3686\"/>\n",
       "</g>\n",
       "<!-- 140559251616544 -->\n",
       "<g id=\"node14\" class=\"node\">\n",
       "<title>140559251616544</title>\n",
       "<polygon fill=\"#add8e6\" stroke=\"#000000\" points=\"867.5,-428 784.5,-428 784.5,-394 867.5,-394 867.5,-428\"/>\n",
       "<text text-anchor=\"middle\" x=\"826\" y=\"-414.4\" font-family=\"Times,serif\" font-size=\"12.00\" fill=\"#000000\">model1.2.bias</text>\n",
       "<text text-anchor=\"middle\" x=\"826\" y=\"-401.4\" font-family=\"Times,serif\" font-size=\"12.00\" fill=\"#000000\"> (64)</text>\n",
       "</g>\n",
       "<!-- 140559251616544&#45;&gt;140559251618784 -->\n",
       "<g id=\"edge13\" class=\"edge\">\n",
       "<title>140559251616544&#45;&gt;140559251618784</title>\n",
       "<path fill=\"none\" stroke=\"#000000\" d=\"M797.058,-393.9832C780.8663,-384.4631 760.8125,-372.6722 744.954,-363.3479\"/>\n",
       "<polygon fill=\"#000000\" stroke=\"#000000\" points=\"746.5568,-360.2302 736.1624,-358.1788 743.0088,-366.2645 746.5568,-360.2302\"/>\n",
       "</g>\n",
       "<!-- 140559251618728 -->\n",
       "<g id=\"node15\" class=\"node\">\n",
       "<title>140559251618728</title>\n",
       "<polygon fill=\"#d3d3d3\" stroke=\"#000000\" points=\"653.5,-224.5 580.5,-224.5 580.5,-203.5 653.5,-203.5 653.5,-224.5\"/>\n",
       "<text text-anchor=\"middle\" x=\"617\" y=\"-210.9\" font-family=\"Times,serif\" font-size=\"12.00\" fill=\"#000000\">TBackward</text>\n",
       "</g>\n",
       "<!-- 140559251618728&#45;&gt;140559251617440 -->\n",
       "<g id=\"edge14\" class=\"edge\">\n",
       "<title>140559251618728&#45;&gt;140559251617440</title>\n",
       "<path fill=\"none\" stroke=\"#000000\" d=\"M623.5308,-203.3685C630.0343,-192.7814 640.1656,-176.2886 648.101,-163.3705\"/>\n",
       "<polygon fill=\"#000000\" stroke=\"#000000\" points=\"651.1558,-165.0843 653.4078,-154.7315 645.1913,-161.4203 651.1558,-165.0843\"/>\n",
       "</g>\n",
       "<!-- 140559251615872 -->\n",
       "<g id=\"node16\" class=\"node\">\n",
       "<title>140559251615872</title>\n",
       "<polygon fill=\"#add8e6\" stroke=\"#000000\" points=\"569,-301 477,-301 477,-267 569,-267 569,-301\"/>\n",
       "<text text-anchor=\"middle\" x=\"523\" y=\"-287.4\" font-family=\"Times,serif\" font-size=\"12.00\" fill=\"#000000\">shared.0.weight</text>\n",
       "<text text-anchor=\"middle\" x=\"523\" y=\"-274.4\" font-family=\"Times,serif\" font-size=\"12.00\" fill=\"#000000\"> (128, 50176)</text>\n",
       "</g>\n",
       "<!-- 140559251615872&#45;&gt;140559251618728 -->\n",
       "<g id=\"edge15\" class=\"edge\">\n",
       "<title>140559251615872&#45;&gt;140559251618728</title>\n",
       "<path fill=\"none\" stroke=\"#000000\" d=\"M546.236,-266.6966C561.0519,-255.6635 580.1434,-241.4464 594.7616,-230.5605\"/>\n",
       "<polygon fill=\"#000000\" stroke=\"#000000\" points=\"596.8556,-233.365 602.7856,-224.5852 592.6747,-227.7507 596.8556,-233.365\"/>\n",
       "</g>\n",
       "<!-- 140559256592624 -->\n",
       "<g id=\"node35\" class=\"node\">\n",
       "<title>140559256592624</title>\n",
       "<polygon fill=\"#d3d3d3\" stroke=\"#000000\" points=\"465.5,-224.5 392.5,-224.5 392.5,-203.5 465.5,-203.5 465.5,-224.5\"/>\n",
       "<text text-anchor=\"middle\" x=\"429\" y=\"-210.9\" font-family=\"Times,serif\" font-size=\"12.00\" fill=\"#000000\">TBackward</text>\n",
       "</g>\n",
       "<!-- 140559251615872&#45;&gt;140559256592624 -->\n",
       "<g id=\"edge36\" class=\"edge\">\n",
       "<title>140559251615872&#45;&gt;140559256592624</title>\n",
       "<path fill=\"none\" stroke=\"#000000\" d=\"M499.764,-266.6966C484.9481,-255.6635 465.8566,-241.4464 451.2384,-230.5605\"/>\n",
       "<polygon fill=\"#000000\" stroke=\"#000000\" points=\"453.3253,-227.7507 443.2144,-224.5852 449.1444,-233.365 453.3253,-227.7507\"/>\n",
       "</g>\n",
       "<!-- 140559251616376 -->\n",
       "<g id=\"node17\" class=\"node\">\n",
       "<title>140559251616376</title>\n",
       "<polygon fill=\"#d3d3d3\" stroke=\"#000000\" points=\"632.5,-84.5 559.5,-84.5 559.5,-63.5 632.5,-63.5 632.5,-84.5\"/>\n",
       "<text text-anchor=\"middle\" x=\"596\" y=\"-70.9\" font-family=\"Times,serif\" font-size=\"12.00\" fill=\"#000000\">TBackward</text>\n",
       "</g>\n",
       "<!-- 140559251616376&#45;&gt;140559256612480 -->\n",
       "<g id=\"edge16\" class=\"edge\">\n",
       "<title>140559251616376&#45;&gt;140559256612480</title>\n",
       "<path fill=\"none\" stroke=\"#000000\" d=\"M596,-63.2281C596,-54.5091 596,-41.9699 596,-31.3068\"/>\n",
       "<polygon fill=\"#000000\" stroke=\"#000000\" points=\"599.5001,-31.1128 596,-21.1128 592.5001,-31.1129 599.5001,-31.1128\"/>\n",
       "</g>\n",
       "<!-- 140559251617664 -->\n",
       "<g id=\"node18\" class=\"node\">\n",
       "<title>140559251617664</title>\n",
       "<polygon fill=\"#add8e6\" stroke=\"#000000\" points=\"576,-161 484,-161 484,-127 576,-127 576,-161\"/>\n",
       "<text text-anchor=\"middle\" x=\"530\" y=\"-147.4\" font-family=\"Times,serif\" font-size=\"12.00\" fill=\"#000000\">shared.2.weight</text>\n",
       "<text text-anchor=\"middle\" x=\"530\" y=\"-134.4\" font-family=\"Times,serif\" font-size=\"12.00\" fill=\"#000000\"> (10, 128)</text>\n",
       "</g>\n",
       "<!-- 140559251617664&#45;&gt;140559251616376 -->\n",
       "<g id=\"edge17\" class=\"edge\">\n",
       "<title>140559251617664&#45;&gt;140559251616376</title>\n",
       "<path fill=\"none\" stroke=\"#000000\" d=\"M546.3146,-126.6966C556.1704,-116.2436 568.7207,-102.9326 578.7417,-92.3042\"/>\n",
       "<polygon fill=\"#000000\" stroke=\"#000000\" points=\"581.5118,-94.4682 585.8254,-84.7913 576.4186,-89.6661 581.5118,-94.4682\"/>\n",
       "</g>\n",
       "<!-- 140559251617888 -->\n",
       "<g id=\"node36\" class=\"node\">\n",
       "<title>140559251617888</title>\n",
       "<polygon fill=\"#d3d3d3\" stroke=\"#000000\" points=\"444.5,-84.5 371.5,-84.5 371.5,-63.5 444.5,-63.5 444.5,-84.5\"/>\n",
       "<text text-anchor=\"middle\" x=\"408\" y=\"-70.9\" font-family=\"Times,serif\" font-size=\"12.00\" fill=\"#000000\">TBackward</text>\n",
       "</g>\n",
       "<!-- 140559251617664&#45;&gt;140559251617888 -->\n",
       "<g id=\"edge38\" class=\"edge\">\n",
       "<title>140559251617664&#45;&gt;140559251617888</title>\n",
       "<path fill=\"none\" stroke=\"#000000\" d=\"M500.1554,-126.8761C480.3924,-115.5366 454.6654,-100.7752 435.4182,-89.7318\"/>\n",
       "<polygon fill=\"#000000\" stroke=\"#000000\" points=\"436.9603,-86.5814 426.5447,-84.6404 433.4765,-92.6529 436.9603,-86.5814\"/>\n",
       "</g>\n",
       "<!-- 140559251615984 -->\n",
       "<g id=\"node20\" class=\"node\">\n",
       "<title>140559251615984</title>\n",
       "<polygon fill=\"#d3d3d3\" stroke=\"#000000\" points=\"353,-84.5 259,-84.5 259,-63.5 353,-63.5 353,-84.5\"/>\n",
       "<text text-anchor=\"middle\" x=\"306\" y=\"-70.9\" font-family=\"Times,serif\" font-size=\"12.00\" fill=\"#000000\">ReluBackward0</text>\n",
       "</g>\n",
       "<!-- 140559251615984&#45;&gt;140559251619792 -->\n",
       "<g id=\"edge19\" class=\"edge\">\n",
       "<title>140559251615984&#45;&gt;140559251619792</title>\n",
       "<path fill=\"none\" stroke=\"#000000\" d=\"M323.3029,-63.2281C339.5195,-53.1325 363.9635,-37.9149 382.4298,-26.4187\"/>\n",
       "<polygon fill=\"#000000\" stroke=\"#000000\" points=\"384.3131,-29.3692 390.9526,-21.1128 380.6135,-23.4266 384.3131,-29.3692\"/>\n",
       "</g>\n",
       "<!-- 140559251619568&#45;&gt;140559251615984 -->\n",
       "<g id=\"edge20\" class=\"edge\">\n",
       "<title>140559251619568&#45;&gt;140559251615984</title>\n",
       "<path fill=\"none\" stroke=\"#000000\" d=\"M373.8497,-133.3685C361.089,-122.2029 340.8213,-104.4686 325.7561,-91.2866\"/>\n",
       "<polygon fill=\"#000000\" stroke=\"#000000\" points=\"327.8331,-88.4532 318.0025,-84.5022 323.2235,-93.7213 327.8331,-88.4532\"/>\n",
       "</g>\n",
       "<!-- 140559251616600 -->\n",
       "<g id=\"node22\" class=\"node\">\n",
       "<title>140559251616600</title>\n",
       "<polygon fill=\"#d3d3d3\" stroke=\"#000000\" points=\"374,-224.5 282,-224.5 282,-203.5 374,-203.5 374,-224.5\"/>\n",
       "<text text-anchor=\"middle\" x=\"328\" y=\"-210.9\" font-family=\"Times,serif\" font-size=\"12.00\" fill=\"#000000\">ViewBackward</text>\n",
       "</g>\n",
       "<!-- 140559251616600&#45;&gt;140559251619568 -->\n",
       "<g id=\"edge22\" class=\"edge\">\n",
       "<title>140559251616600&#45;&gt;140559251619568</title>\n",
       "<path fill=\"none\" stroke=\"#000000\" d=\"M336.809,-203.3685C345.7515,-192.5758 359.7792,-175.6458 370.5702,-162.6221\"/>\n",
       "<polygon fill=\"#000000\" stroke=\"#000000\" points=\"373.423,-164.6649 377.1081,-154.7315 368.0329,-160.1987 373.423,-164.6649\"/>\n",
       "</g>\n",
       "<!-- 140559256593184 -->\n",
       "<g id=\"node23\" class=\"node\">\n",
       "<title>140559256593184</title>\n",
       "<polygon fill=\"#d3d3d3\" stroke=\"#000000\" points=\"375,-294.5 281,-294.5 281,-273.5 375,-273.5 375,-294.5\"/>\n",
       "<text text-anchor=\"middle\" x=\"328\" y=\"-280.9\" font-family=\"Times,serif\" font-size=\"12.00\" fill=\"#000000\">ReluBackward0</text>\n",
       "</g>\n",
       "<!-- 140559256593184&#45;&gt;140559251616600 -->\n",
       "<g id=\"edge23\" class=\"edge\">\n",
       "<title>140559256593184&#45;&gt;140559251616600</title>\n",
       "<path fill=\"none\" stroke=\"#000000\" d=\"M328,-273.3685C328,-263.1925 328,-247.5606 328,-234.8912\"/>\n",
       "<polygon fill=\"#000000\" stroke=\"#000000\" points=\"331.5001,-234.7315 328,-224.7315 324.5001,-234.7316 331.5001,-234.7315\"/>\n",
       "</g>\n",
       "<!-- 140559256593576 -->\n",
       "<g id=\"node24\" class=\"node\">\n",
       "<title>140559256593576</title>\n",
       "<polygon fill=\"#d3d3d3\" stroke=\"#000000\" points=\"409,-358 247,-358 247,-337 409,-337 409,-358\"/>\n",
       "<text text-anchor=\"middle\" x=\"328\" y=\"-344.4\" font-family=\"Times,serif\" font-size=\"12.00\" fill=\"#000000\">MkldnnConvolutionBackward</text>\n",
       "</g>\n",
       "<!-- 140559256593576&#45;&gt;140559256593184 -->\n",
       "<g id=\"edge24\" class=\"edge\">\n",
       "<title>140559256593576&#45;&gt;140559256593184</title>\n",
       "<path fill=\"none\" stroke=\"#000000\" d=\"M328,-336.7281C328,-328.0091 328,-315.4699 328,-304.8068\"/>\n",
       "<polygon fill=\"#000000\" stroke=\"#000000\" points=\"331.5001,-304.6128 328,-294.6128 324.5001,-304.6129 331.5001,-304.6128\"/>\n",
       "</g>\n",
       "<!-- 140559256593352 -->\n",
       "<g id=\"node25\" class=\"node\">\n",
       "<title>140559256593352</title>\n",
       "<polygon fill=\"#d3d3d3\" stroke=\"#000000\" points=\"262,-421.5 168,-421.5 168,-400.5 262,-400.5 262,-421.5\"/>\n",
       "<text text-anchor=\"middle\" x=\"215\" y=\"-407.9\" font-family=\"Times,serif\" font-size=\"12.00\" fill=\"#000000\">ReluBackward0</text>\n",
       "</g>\n",
       "<!-- 140559256593352&#45;&gt;140559256593576 -->\n",
       "<g id=\"edge25\" class=\"edge\">\n",
       "<title>140559256593352&#45;&gt;140559256593576</title>\n",
       "<path fill=\"none\" stroke=\"#000000\" d=\"M233.9137,-400.3715C252.0025,-390.2066 279.4981,-374.7555 300.1017,-363.1774\"/>\n",
       "<polygon fill=\"#000000\" stroke=\"#000000\" points=\"302.0215,-366.1134 309.0246,-358.1631 298.5922,-360.0109 302.0215,-366.1134\"/>\n",
       "</g>\n",
       "<!-- 140559256593520 -->\n",
       "<g id=\"node26\" class=\"node\">\n",
       "<title>140559256593520</title>\n",
       "<polygon fill=\"#d3d3d3\" stroke=\"#000000\" points=\"296,-485 134,-485 134,-464 296,-464 296,-485\"/>\n",
       "<text text-anchor=\"middle\" x=\"215\" y=\"-471.4\" font-family=\"Times,serif\" font-size=\"12.00\" fill=\"#000000\">MkldnnConvolutionBackward</text>\n",
       "</g>\n",
       "<!-- 140559256593520&#45;&gt;140559256593352 -->\n",
       "<g id=\"edge26\" class=\"edge\">\n",
       "<title>140559256593520&#45;&gt;140559256593352</title>\n",
       "<path fill=\"none\" stroke=\"#000000\" d=\"M215,-463.7281C215,-455.0091 215,-442.4699 215,-431.8068\"/>\n",
       "<polygon fill=\"#000000\" stroke=\"#000000\" points=\"218.5001,-431.6128 215,-421.6128 211.5001,-431.6129 218.5001,-431.6128\"/>\n",
       "</g>\n",
       "<!-- 140559256593912 -->\n",
       "<g id=\"node27\" class=\"node\">\n",
       "<title>140559256593912</title>\n",
       "<polygon fill=\"#d3d3d3\" stroke=\"#000000\" points=\"149,-548.5 55,-548.5 55,-527.5 149,-527.5 149,-548.5\"/>\n",
       "<text text-anchor=\"middle\" x=\"102\" y=\"-534.9\" font-family=\"Times,serif\" font-size=\"12.00\" fill=\"#000000\">ReluBackward0</text>\n",
       "</g>\n",
       "<!-- 140559256593912&#45;&gt;140559256593520 -->\n",
       "<g id=\"edge27\" class=\"edge\">\n",
       "<title>140559256593912&#45;&gt;140559256593520</title>\n",
       "<path fill=\"none\" stroke=\"#000000\" d=\"M120.9137,-527.3715C139.0025,-517.2066 166.4981,-501.7555 187.1017,-490.1774\"/>\n",
       "<polygon fill=\"#000000\" stroke=\"#000000\" points=\"189.0215,-493.1134 196.0246,-485.1631 185.5922,-487.0109 189.0215,-493.1134\"/>\n",
       "</g>\n",
       "<!-- 140559256593128 -->\n",
       "<g id=\"node28\" class=\"node\">\n",
       "<title>140559256593128</title>\n",
       "<polygon fill=\"#d3d3d3\" stroke=\"#000000\" points=\"183,-612 21,-612 21,-591 183,-591 183,-612\"/>\n",
       "<text text-anchor=\"middle\" x=\"102\" y=\"-598.4\" font-family=\"Times,serif\" font-size=\"12.00\" fill=\"#000000\">MkldnnConvolutionBackward</text>\n",
       "</g>\n",
       "<!-- 140559256593128&#45;&gt;140559256593912 -->\n",
       "<g id=\"edge28\" class=\"edge\">\n",
       "<title>140559256593128&#45;&gt;140559256593912</title>\n",
       "<path fill=\"none\" stroke=\"#000000\" d=\"M102,-590.7281C102,-582.0091 102,-569.4699 102,-558.8068\"/>\n",
       "<polygon fill=\"#000000\" stroke=\"#000000\" points=\"105.5001,-558.6128 102,-548.6128 98.5001,-558.6129 105.5001,-558.6128\"/>\n",
       "</g>\n",
       "<!-- 140559256594080 -->\n",
       "<g id=\"node29\" class=\"node\">\n",
       "<title>140559256594080</title>\n",
       "<polygon fill=\"#add8e6\" stroke=\"#000000\" points=\"96,-682 0,-682 0,-648 96,-648 96,-682\"/>\n",
       "<text text-anchor=\"middle\" x=\"48\" y=\"-668.4\" font-family=\"Times,serif\" font-size=\"12.00\" fill=\"#000000\">model2.0.weight</text>\n",
       "<text text-anchor=\"middle\" x=\"48\" y=\"-655.4\" font-family=\"Times,serif\" font-size=\"12.00\" fill=\"#000000\"> (16, 3, 3, 3)</text>\n",
       "</g>\n",
       "<!-- 140559256594080&#45;&gt;140559256593128 -->\n",
       "<g id=\"edge29\" class=\"edge\">\n",
       "<title>140559256594080&#45;&gt;140559256593128</title>\n",
       "<path fill=\"none\" stroke=\"#000000\" d=\"M62.471,-647.9832C69.7629,-639.4085 78.6213,-628.9916 86.1026,-620.1942\"/>\n",
       "<polygon fill=\"#000000\" stroke=\"#000000\" points=\"88.9454,-622.254 92.7574,-612.3687 83.6128,-617.7192 88.9454,-622.254\"/>\n",
       "</g>\n",
       "<!-- 140559256592960 -->\n",
       "<g id=\"node30\" class=\"node\">\n",
       "<title>140559256592960</title>\n",
       "<polygon fill=\"#add8e6\" stroke=\"#000000\" points=\"197.5,-682 114.5,-682 114.5,-648 197.5,-648 197.5,-682\"/>\n",
       "<text text-anchor=\"middle\" x=\"156\" y=\"-668.4\" font-family=\"Times,serif\" font-size=\"12.00\" fill=\"#000000\">model2.0.bias</text>\n",
       "<text text-anchor=\"middle\" x=\"156\" y=\"-655.4\" font-family=\"Times,serif\" font-size=\"12.00\" fill=\"#000000\"> (16)</text>\n",
       "</g>\n",
       "<!-- 140559256592960&#45;&gt;140559256593128 -->\n",
       "<g id=\"edge30\" class=\"edge\">\n",
       "<title>140559256592960&#45;&gt;140559256593128</title>\n",
       "<path fill=\"none\" stroke=\"#000000\" d=\"M141.529,-647.9832C134.2371,-639.4085 125.3787,-628.9916 117.8974,-620.1942\"/>\n",
       "<polygon fill=\"#000000\" stroke=\"#000000\" points=\"120.3872,-617.7192 111.2426,-612.3687 115.0546,-622.254 120.3872,-617.7192\"/>\n",
       "</g>\n",
       "<!-- 140559256592456 -->\n",
       "<g id=\"node31\" class=\"node\">\n",
       "<title>140559256592456</title>\n",
       "<polygon fill=\"#add8e6\" stroke=\"#000000\" points=\"263,-555 167,-555 167,-521 263,-521 263,-555\"/>\n",
       "<text text-anchor=\"middle\" x=\"215\" y=\"-541.4\" font-family=\"Times,serif\" font-size=\"12.00\" fill=\"#000000\">model2.2.weight</text>\n",
       "<text text-anchor=\"middle\" x=\"215\" y=\"-528.4\" font-family=\"Times,serif\" font-size=\"12.00\" fill=\"#000000\"> (32, 16, 3, 3)</text>\n",
       "</g>\n",
       "<!-- 140559256592456&#45;&gt;140559256593520 -->\n",
       "<g id=\"edge31\" class=\"edge\">\n",
       "<title>140559256592456&#45;&gt;140559256593520</title>\n",
       "<path fill=\"none\" stroke=\"#000000\" d=\"M215,-520.9832C215,-513.1157 215,-503.6973 215,-495.4019\"/>\n",
       "<polygon fill=\"#000000\" stroke=\"#000000\" points=\"218.5001,-495.3686 215,-485.3687 211.5001,-495.3687 218.5001,-495.3686\"/>\n",
       "</g>\n",
       "<!-- 140559256593744 -->\n",
       "<g id=\"node32\" class=\"node\">\n",
       "<title>140559256593744</title>\n",
       "<polygon fill=\"#add8e6\" stroke=\"#000000\" points=\"364.5,-555 281.5,-555 281.5,-521 364.5,-521 364.5,-555\"/>\n",
       "<text text-anchor=\"middle\" x=\"323\" y=\"-541.4\" font-family=\"Times,serif\" font-size=\"12.00\" fill=\"#000000\">model2.2.bias</text>\n",
       "<text text-anchor=\"middle\" x=\"323\" y=\"-528.4\" font-family=\"Times,serif\" font-size=\"12.00\" fill=\"#000000\"> (32)</text>\n",
       "</g>\n",
       "<!-- 140559256593744&#45;&gt;140559256593520 -->\n",
       "<g id=\"edge32\" class=\"edge\">\n",
       "<title>140559256593744&#45;&gt;140559256593520</title>\n",
       "<path fill=\"none\" stroke=\"#000000\" d=\"M294.058,-520.9832C277.8663,-511.4631 257.8125,-499.6722 241.954,-490.3479\"/>\n",
       "<polygon fill=\"#000000\" stroke=\"#000000\" points=\"243.5568,-487.2302 233.1624,-485.1788 240.0088,-493.2645 243.5568,-487.2302\"/>\n",
       "</g>\n",
       "<!-- 140559256592680 -->\n",
       "<g id=\"node33\" class=\"node\">\n",
       "<title>140559256592680</title>\n",
       "<polygon fill=\"#add8e6\" stroke=\"#000000\" points=\"376,-428 280,-428 280,-394 376,-394 376,-428\"/>\n",
       "<text text-anchor=\"middle\" x=\"328\" y=\"-414.4\" font-family=\"Times,serif\" font-size=\"12.00\" fill=\"#000000\">model2.4.weight</text>\n",
       "<text text-anchor=\"middle\" x=\"328\" y=\"-401.4\" font-family=\"Times,serif\" font-size=\"12.00\" fill=\"#000000\"> (64, 32, 1, 1)</text>\n",
       "</g>\n",
       "<!-- 140559256592680&#45;&gt;140559256593576 -->\n",
       "<g id=\"edge33\" class=\"edge\">\n",
       "<title>140559256592680&#45;&gt;140559256593576</title>\n",
       "<path fill=\"none\" stroke=\"#000000\" d=\"M328,-393.9832C328,-386.1157 328,-376.6973 328,-368.4019\"/>\n",
       "<polygon fill=\"#000000\" stroke=\"#000000\" points=\"331.5001,-368.3686 328,-358.3687 324.5001,-368.3687 331.5001,-368.3686\"/>\n",
       "</g>\n",
       "<!-- 140559256593016 -->\n",
       "<g id=\"node34\" class=\"node\">\n",
       "<title>140559256593016</title>\n",
       "<polygon fill=\"#add8e6\" stroke=\"#000000\" points=\"477.5,-428 394.5,-428 394.5,-394 477.5,-394 477.5,-428\"/>\n",
       "<text text-anchor=\"middle\" x=\"436\" y=\"-414.4\" font-family=\"Times,serif\" font-size=\"12.00\" fill=\"#000000\">model2.4.bias</text>\n",
       "<text text-anchor=\"middle\" x=\"436\" y=\"-401.4\" font-family=\"Times,serif\" font-size=\"12.00\" fill=\"#000000\"> (64)</text>\n",
       "</g>\n",
       "<!-- 140559256593016&#45;&gt;140559256593576 -->\n",
       "<g id=\"edge34\" class=\"edge\">\n",
       "<title>140559256593016&#45;&gt;140559256593576</title>\n",
       "<path fill=\"none\" stroke=\"#000000\" d=\"M407.058,-393.9832C390.8663,-384.4631 370.8125,-372.6722 354.954,-363.3479\"/>\n",
       "<polygon fill=\"#000000\" stroke=\"#000000\" points=\"356.5568,-360.2302 346.1624,-358.1788 353.0088,-366.2645 356.5568,-360.2302\"/>\n",
       "</g>\n",
       "<!-- 140559256592624&#45;&gt;140559251619568 -->\n",
       "<g id=\"edge35\" class=\"edge\">\n",
       "<title>140559256592624&#45;&gt;140559251619568</title>\n",
       "<path fill=\"none\" stroke=\"#000000\" d=\"M422.4692,-203.3685C415.9657,-192.7814 405.8344,-176.2886 397.899,-163.3705\"/>\n",
       "<polygon fill=\"#000000\" stroke=\"#000000\" points=\"400.8087,-161.4203 392.5922,-154.7315 394.8442,-165.0843 400.8087,-161.4203\"/>\n",
       "</g>\n",
       "<!-- 140559251617888&#45;&gt;140559251619792 -->\n",
       "<g id=\"edge37\" class=\"edge\">\n",
       "<title>140559251617888&#45;&gt;140559251619792</title>\n",
       "<path fill=\"none\" stroke=\"#000000\" d=\"M408,-63.2281C408,-54.5091 408,-41.9699 408,-31.3068\"/>\n",
       "<polygon fill=\"#000000\" stroke=\"#000000\" points=\"411.5001,-31.1128 408,-21.1128 404.5001,-31.1129 411.5001,-31.1128\"/>\n",
       "</g>\n",
       "</g>\n",
       "</svg>\n"
      ],
      "text/plain": [
       "<graphviz.dot.Digraph at 0x7fd6808f65c0>"
      ]
     },
     "execution_count": 33,
     "metadata": {},
     "output_type": "execute_result"
    }
   ],
   "source": [
    "from torchviz import make_dot\n",
    "from datetime import datetime\n",
    "make_dot(model(sampleX[:2]), params=dict(model.named_parameters()))"
   ]
  },
  {
   "cell_type": "code",
   "execution_count": 34,
   "metadata": {},
   "outputs": [],
   "source": [
    "learning_rate = 1e-2\n",
    "momentum = 0.5\n",
    "criterion = t.nn.CrossEntropyLoss()\n",
    "optimizer = t.optim.SGD(model.parameters(),lr=learning_rate,momentum=momentum)\n",
    "train_losses,test_losses,train_accs,test_accs = [],[],[],[]"
   ]
  },
  {
   "cell_type": "code",
   "execution_count": 45,
   "metadata": {},
   "outputs": [],
   "source": [
    "def book_keeping(epoch,time,model):\n",
    "    \n",
    "    train_correct_predictions = 0\n",
    "    test_correct_predictions = 0\n",
    "    train_epoch_loss = 0\n",
    "    test_epoch_loss = 0\n",
    "\n",
    "    for batchX,batchY in iter(train_loader):\n",
    "        \n",
    "        batchX, batchY = batchX.to(device), batchY.to(device)\n",
    "        \n",
    "        m1,m2 = model(batchX)\n",
    "        loss1 = criterion(m1,batchY)\n",
    "        loss2 = criterion(m2,batchY)\n",
    "\n",
    "        total_loss = loss1+loss2\n",
    "        train_epoch_loss += total_loss.item()\n",
    "\n",
    "        predictions = t.argmax(m1.data, 1)\n",
    "        train_correct_predictions+= (predictions == batchY).sum().item()\n",
    "        \n",
    "        predictions = t.argmax(m2.data, 1)\n",
    "        train_correct_predictions+= (predictions == batchY).sum().item()\n",
    "        \n",
    "        \n",
    "    for batchX,batchY in iter(test_loader):\n",
    "        batchX, batchY = batchX.to(device), batchY.to(device)\n",
    "\n",
    "        m1,m2 = model(batchX)\n",
    "        loss1 = criterion(m1,batchY)\n",
    "        loss2 = criterion(m2,batchY)\n",
    "\n",
    "        total_loss = loss1+loss2\n",
    "        test_epoch_loss += total_loss.item()\n",
    "        \n",
    "        predictions = t.argmax(m1.data, 1)\n",
    "        test_correct_predictions+= (predictions == batchY).sum().item()\n",
    "        \n",
    "        predictions = t.argmax(m2.data, 1)\n",
    "        test_correct_predictions+= (predictions == batchY).sum().item()\n",
    "        \n",
    "      \n",
    "    train_acc = (train_correct_predictions / 2*(len(train_loader)*32)) * 100\n",
    "    test_acc = (test_correct_predictions / 2*(len(test_loader)*32)) * 100\n",
    "    \n",
    "    print('Epoch = {}, Time = {}, Train Loss: {:.2f}, Test Loss: {:.2f}, Train Accuracy: {:.2f}%,Test Accuracy: {:.2f}%'.format(epoch + 1, time, train_epoch_loss,test_epoch_loss,train_acc,test_acc))\n",
    "    \n",
    "    train_losses.append(train_epoch_loss)\n",
    "    test_losses.append(test_epoch_loss)\n",
    "    train_accs.append(train_acc)\n",
    "    test_accs.append(test_acc)"
   ]
  },
  {
   "cell_type": "code",
   "execution_count": null,
   "metadata": {},
   "outputs": [
    {
     "name": "stdout",
     "output_type": "stream",
     "text": [
      "Epoch = 1, Time = 0.884172, Train Loss: 7205.68, Test Loss: 1442.88, Train Accuracy: 27508800000.00%,Test Accuracy: 1096752000.00%\n",
      "Epoch = 1, Time = 346.079493, Train Loss: 7208.84, Test Loss: 1443.52, Train Accuracy: 26776065600.00%,Test Accuracy: 1070209600.00%\n",
      "Epoch = 1, Time = 679.055593, Train Loss: 7206.69, Test Loss: 1443.10, Train Accuracy: 28136500800.00%,Test Accuracy: 1120790400.00%\n",
      "Epoch = 1, Time = 1011.309355, Train Loss: 7214.95, Test Loss: 1444.53, Train Accuracy: 25193059200.00%,Test Accuracy: 1008611200.00%\n",
      "Epoch = 1, Time = 1343.021647, Train Loss: 7211.70, Test Loss: 1443.87, Train Accuracy: 25113033600.00%,Test Accuracy: 1005606400.00%\n",
      "Epoch = 1, Time = 1671.744606, Train Loss: 7203.66, Test Loss: 1442.30, Train Accuracy: 27336244800.00%,Test Accuracy: 1094748800.00%\n",
      "Epoch = 1, Time = 2001.343953, Train Loss: 7197.36, Test Loss: 1441.09, Train Accuracy: 28504118400.00%,Test Accuracy: 1140321600.00%\n",
      "Epoch = 1, Time = 2330.959105, Train Loss: 7199.63, Test Loss: 1441.44, Train Accuracy: 30969907200.00%,Test Accuracy: 1231968000.00%\n",
      "Epoch = 1, Time = 2659.212162, Train Loss: 7203.41, Test Loss: 1442.41, Train Accuracy: 25095528000.00%,Test Accuracy: 1006107200.00%\n",
      "Epoch = 1, Time = 2988.927028, Train Loss: 7199.28, Test Loss: 1441.62, Train Accuracy: 25010500800.00%,Test Accuracy: 1001600000.00%\n",
      "Epoch = 1, Time = 3318.292539, Train Loss: 7197.66, Test Loss: 1441.32, Train Accuracy: 25008000000.00%,Test Accuracy: 1001600000.00%\n",
      "Epoch = 1, Time = 3646.619674, Train Loss: 7186.04, Test Loss: 1438.97, Train Accuracy: 25215566400.00%,Test Accuracy: 1005606400.00%\n",
      "Epoch = 1, Time = 3975.115516, Train Loss: 7181.90, Test Loss: 1438.16, Train Accuracy: 30017102400.00%,Test Accuracy: 1213438400.00%\n",
      "Epoch = 1, Time = 4312.594571, Train Loss: 7173.55, Test Loss: 1436.44, Train Accuracy: 27521304000.00%,Test Accuracy: 1092244800.00%\n",
      "Epoch = 1, Time = 4642.436425, Train Loss: 7171.69, Test Loss: 1435.98, Train Accuracy: 25990814400.00%,Test Accuracy: 1030646400.00%\n",
      "Epoch = 1, Time = 4971.295722, Train Loss: 7171.18, Test Loss: 1435.86, Train Accuracy: 25153046400.00%,Test Accuracy: 1007108800.00%\n",
      "Epoch = 1, Time = 5300.890648, Train Loss: 7169.82, Test Loss: 1435.52, Train Accuracy: 26603510400.00%,Test Accuracy: 1054684800.00%\n",
      "Epoch = 1, Time = 5629.219061, Train Loss: 7170.43, Test Loss: 1435.65, Train Accuracy: 26340926400.00%,Test Accuracy: 1044668800.00%\n",
      "Epoch = 1, Time = 5957.657071, Train Loss: 7167.71, Test Loss: 1435.09, Train Accuracy: 28901745600.00%,Test Accuracy: 1147833600.00%\n",
      "Epoch = 1, Time = 6286.004072, Train Loss: 7163.96, Test Loss: 1434.39, Train Accuracy: 35288788800.00%,Test Accuracy: 1401238400.00%\n",
      "Epoch = 1, Time = 6617.862277, Train Loss: 7155.64, Test Loss: 1432.74, Train Accuracy: 35991513600.00%,Test Accuracy: 1440801600.00%\n",
      "Epoch = 1, Time = 6945.93777, Train Loss: 7156.48, Test Loss: 1432.86, Train Accuracy: 30024604800.00%,Test Accuracy: 1193907200.00%\n",
      "Epoch = 1, Time = 7274.846011, Train Loss: 7166.68, Test Loss: 1434.80, Train Accuracy: 25565678400.00%,Test Accuracy: 1022633600.00%\n",
      "Epoch = 1, Time = 7603.306925, Train Loss: 7164.70, Test Loss: 1434.46, Train Accuracy: 26520984000.00%,Test Accuracy: 1050177600.00%\n",
      "Epoch = 1, Time = 7934.485753, Train Loss: 7149.80, Test Loss: 1431.55, Train Accuracy: 30202161600.00%,Test Accuracy: 1204424000.00%\n",
      "Epoch = 1, Time = 8263.997216, Train Loss: 7138.24, Test Loss: 1429.33, Train Accuracy: 41880897600.00%,Test Accuracy: 1668665600.00%\n",
      "Epoch = 1, Time = 8593.499085, Train Loss: 7136.55, Test Loss: 1429.02, Train Accuracy: 42651144000.00%,Test Accuracy: 1706726400.00%\n",
      "Epoch = 1, Time = 8923.140503, Train Loss: 7134.30, Test Loss: 1428.54, Train Accuracy: 38267241600.00%,Test Accuracy: 1534952000.00%\n",
      "Epoch = 1, Time = 9253.529143, Train Loss: 7133.21, Test Loss: 1428.41, Train Accuracy: 39807734400.00%,Test Accuracy: 1611574400.00%\n",
      "Epoch = 1, Time = 9582.75908, Train Loss: 7131.06, Test Loss: 1427.97, Train Accuracy: 38762400000.00%,Test Accuracy: 1606566400.00%\n",
      "Epoch = 1, Time = 9910.887468, Train Loss: 7126.02, Test Loss: 1426.91, Train Accuracy: 41533286400.00%,Test Accuracy: 1682688000.00%\n",
      "Epoch = 1, Time = 10242.184585, Train Loss: 7122.05, Test Loss: 1426.22, Train Accuracy: 42201000000.00%,Test Accuracy: 1691201600.00%\n",
      "Epoch = 1, Time = 10570.466663, Train Loss: 7121.09, Test Loss: 1426.03, Train Accuracy: 43271342400.00%,Test Accuracy: 1758308800.00%\n",
      "Epoch = 1, Time = 10898.974786, Train Loss: 7118.93, Test Loss: 1425.65, Train Accuracy: 42223507200.00%,Test Accuracy: 1708729600.00%\n",
      "Epoch = 1, Time = 11228.951567, Train Loss: 7116.91, Test Loss: 1425.22, Train Accuracy: 46614912000.00%,Test Accuracy: 1908548800.00%\n",
      "Epoch = 1, Time = 11557.195308, Train Loss: 7115.55, Test Loss: 1424.88, Train Accuracy: 44294169600.00%,Test Accuracy: 1783348800.00%\n",
      "Epoch = 1, Time = 11886.868371, Train Loss: 7116.91, Test Loss: 1425.07, Train Accuracy: 39692697600.00%,Test Accuracy: 1596049600.00%\n",
      "Epoch = 1, Time = 12216.417896, Train Loss: 7126.89, Test Loss: 1427.11, Train Accuracy: 33398184000.00%,Test Accuracy: 1337136000.00%\n",
      "Epoch = 1, Time = 12546.792102, Train Loss: 7116.91, Test Loss: 1425.01, Train Accuracy: 38219726400.00%,Test Accuracy: 1529443200.00%\n",
      "Epoch = 1, Time = 12874.479838, Train Loss: 7099.86, Test Loss: 1421.59, Train Accuracy: 40703020800.00%,Test Accuracy: 1623092800.00%\n",
      "Epoch = 1, Time = 13202.948521, Train Loss: 7088.63, Test Loss: 1419.37, Train Accuracy: 33995875200.00%,Test Accuracy: 1354664000.00%\n",
      "Epoch = 1, Time = 13531.623873, Train Loss: 7087.85, Test Loss: 1419.15, Train Accuracy: 29461924800.00%,Test Accuracy: 1156347200.00%\n",
      "Epoch = 1, Time = 13862.065493, Train Loss: 7091.57, Test Loss: 1419.83, Train Accuracy: 30779846400.00%,Test Accuracy: 1219948800.00%\n",
      "Epoch = 1, Time = 14193.295, Train Loss: 7079.85, Test Loss: 1417.58, Train Accuracy: 29329382400.00%,Test Accuracy: 1160353600.00%\n",
      "Epoch = 1, Time = 14525.193759, Train Loss: 7069.89, Test Loss: 1415.59, Train Accuracy: 33980870400.00%,Test Accuracy: 1344648000.00%\n",
      "Epoch = 1, Time = 14855.438749, Train Loss: 7069.05, Test Loss: 1415.49, Train Accuracy: 36424152000.00%,Test Accuracy: 1448814400.00%\n",
      "Epoch = 1, Time = 15190.042205, Train Loss: 7059.30, Test Loss: 1413.37, Train Accuracy: 38452300800.00%,Test Accuracy: 1545468800.00%\n",
      "Epoch = 1, Time = 15519.133357, Train Loss: 7070.41, Test Loss: 1415.80, Train Accuracy: 33508219200.00%,Test Accuracy: 1329123200.00%\n",
      "Epoch = 1, Time = 15849.21301, Train Loss: 7069.89, Test Loss: 1415.70, Train Accuracy: 35793950400.00%,Test Accuracy: 1427780800.00%\n",
      "Epoch = 1, Time = 16179.531187, Train Loss: 7055.31, Test Loss: 1412.81, Train Accuracy: 42803692800.00%,Test Accuracy: 1701217600.00%\n",
      "Epoch = 1, Time = 16507.742067, Train Loss: 7045.62, Test Loss: 1411.00, Train Accuracy: 37294430400.00%,Test Accuracy: 1461334400.00%\n",
      "Epoch = 1, Time = 16836.8989, Train Loss: 7047.25, Test Loss: 1411.37, Train Accuracy: 35966505600.00%,Test Accuracy: 1419768000.00%\n",
      "Epoch = 1, Time = 17166.130692, Train Loss: 7043.06, Test Loss: 1410.47, Train Accuracy: 37829601600.00%,Test Accuracy: 1493385600.00%\n",
      "Epoch = 1, Time = 17496.460488, Train Loss: 7041.17, Test Loss: 1409.98, Train Accuracy: 39670190400.00%,Test Accuracy: 1577019200.00%\n",
      "Epoch = 1, Time = 17824.249124, Train Loss: 7025.53, Test Loss: 1406.77, Train Accuracy: 38584843200.00%,Test Accuracy: 1540961600.00%\n",
      "Epoch = 1, Time = 18153.164528, Train Loss: 7028.90, Test Loss: 1407.28, Train Accuracy: 38557334400.00%,Test Accuracy: 1542964800.00%\n",
      "Epoch = 1, Time = 18482.63437, Train Loss: 7025.93, Test Loss: 1406.82, Train Accuracy: 38164708800.00%,Test Accuracy: 1551979200.00%\n",
      "Epoch = 1, Time = 18810.217547, Train Loss: 7026.65, Test Loss: 1407.11, Train Accuracy: 41183174400.00%,Test Accuracy: 1688697600.00%\n",
      "Epoch = 1, Time = 19139.112273, Train Loss: 7024.42, Test Loss: 1406.76, Train Accuracy: 35208763200.00%,Test Accuracy: 1404243200.00%\n",
      "Epoch = 1, Time = 19467.990447, Train Loss: 7010.32, Test Loss: 1403.97, Train Accuracy: 35168750400.00%,Test Accuracy: 1408750400.00%\n",
      "Epoch = 1, Time = 19797.162446, Train Loss: 7002.98, Test Loss: 1402.48, Train Accuracy: 33078081600.00%,Test Accuracy: 1330124800.00%\n",
      "Epoch = 1, Time = 20124.448671, Train Loss: 6998.20, Test Loss: 1401.54, Train Accuracy: 36141561600.00%,Test Accuracy: 1451318400.00%\n"
     ]
    },
    {
     "name": "stdout",
     "output_type": "stream",
     "text": [
      "Epoch = 1, Time = 20453.438345, Train Loss: 6984.10, Test Loss: 1398.72, Train Accuracy: 41298211200.00%,Test Accuracy: 1650636800.00%\n",
      "Epoch = 1, Time = 20781.753327, Train Loss: 6969.25, Test Loss: 1395.73, Train Accuracy: 43516420800.00%,Test Accuracy: 1760312000.00%\n",
      "Epoch = 1, Time = 21112.765425, Train Loss: 6966.69, Test Loss: 1394.92, Train Accuracy: 40960603200.00%,Test Accuracy: 1652640000.00%\n",
      "Epoch = 1, Time = 21442.823337, Train Loss: 6967.41, Test Loss: 1395.13, Train Accuracy: 42428572800.00%,Test Accuracy: 1697211200.00%\n",
      "Epoch = 1, Time = 21770.367745, Train Loss: 6963.31, Test Loss: 1394.16, Train Accuracy: 40027804800.00%,Test Accuracy: 1597051200.00%\n",
      "Epoch = 1, Time = 22099.726408, Train Loss: 6950.98, Test Loss: 1391.86, Train Accuracy: 37171891200.00%,Test Accuracy: 1512416000.00%\n",
      "Epoch = 1, Time = 22427.600073, Train Loss: 6943.28, Test Loss: 1390.45, Train Accuracy: 33560736000.00%,Test Accuracy: 1360673600.00%\n",
      "Epoch = 1, Time = 22757.455504, Train Loss: 6960.97, Test Loss: 1394.30, Train Accuracy: 41775864000.00%,Test Accuracy: 1674174400.00%\n",
      "Epoch = 1, Time = 23086.18049, Train Loss: 6977.45, Test Loss: 1397.87, Train Accuracy: 29629478400.00%,Test Accuracy: 1189400000.00%\n",
      "Epoch = 1, Time = 23415.436334, Train Loss: 6929.49, Test Loss: 1387.87, Train Accuracy: 31492574400.00%,Test Accuracy: 1257508800.00%\n",
      "Epoch = 1, Time = 23743.142054, Train Loss: 6908.05, Test Loss: 1383.67, Train Accuracy: 36894302400.00%,Test Accuracy: 1494888000.00%\n",
      "Epoch = 1, Time = 24070.866557, Train Loss: 6893.73, Test Loss: 1380.66, Train Accuracy: 49178232000.00%,Test Accuracy: 2004201600.00%\n",
      "Epoch = 1, Time = 24399.626032, Train Loss: 6881.29, Test Loss: 1378.01, Train Accuracy: 44904364800.00%,Test Accuracy: 1826417600.00%\n",
      "Epoch = 1, Time = 24730.148582, Train Loss: 6899.06, Test Loss: 1381.50, Train Accuracy: 42986251200.00%,Test Accuracy: 1721249600.00%\n",
      "Epoch = 1, Time = 25058.995403, Train Loss: 6960.83, Test Loss: 1393.83, Train Accuracy: 37269422400.00%,Test Accuracy: 1497392000.00%\n",
      "Epoch = 1, Time = 25386.797049, Train Loss: 6948.33, Test Loss: 1391.57, Train Accuracy: 37214404800.00%,Test Accuracy: 1486875200.00%\n",
      "Epoch = 1, Time = 25716.475973, Train Loss: 6895.97, Test Loss: 1381.00, Train Accuracy: 38739892800.00%,Test Accuracy: 1554984000.00%\n",
      "Epoch = 1, Time = 26044.456608, Train Loss: 6849.06, Test Loss: 1371.46, Train Accuracy: 46579900800.00%,Test Accuracy: 1884009600.00%\n",
      "Epoch = 1, Time = 26378.365241, Train Loss: 6842.56, Test Loss: 1370.03, Train Accuracy: 44926872000.00%,Test Accuracy: 1771830400.00%\n",
      "Epoch = 1, Time = 26707.785564, Train Loss: 6821.62, Test Loss: 1365.77, Train Accuracy: 44251656000.00%,Test Accuracy: 1733268800.00%\n",
      "Epoch = 1, Time = 27037.185931, Train Loss: 6809.69, Test Loss: 1363.79, Train Accuracy: 43949059200.00%,Test Accuracy: 1732768000.00%\n",
      "Epoch = 1, Time = 27365.355502, Train Loss: 6824.17, Test Loss: 1366.86, Train Accuracy: 36851788800.00%,Test Accuracy: 1450817600.00%\n",
      "Epoch = 1, Time = 27693.442109, Train Loss: 6802.47, Test Loss: 1362.73, Train Accuracy: 37004337600.00%,Test Accuracy: 1451318400.00%\n",
      "Epoch = 1, Time = 28022.195941, Train Loss: 6780.23, Test Loss: 1358.10, Train Accuracy: 39592665600.00%,Test Accuracy: 1562496000.00%\n",
      "Epoch = 1, Time = 28353.893621, Train Loss: 6843.03, Test Loss: 1371.25, Train Accuracy: 37319438400.00%,Test Accuracy: 1472852800.00%\n",
      "Epoch = 1, Time = 28682.856226, Train Loss: 6824.07, Test Loss: 1366.37, Train Accuracy: 40522963200.00%,Test Accuracy: 1634110400.00%\n",
      "Epoch = 1, Time = 29011.109077, Train Loss: 6863.12, Test Loss: 1374.84, Train Accuracy: 43626456000.00%,Test Accuracy: 1728260800.00%\n",
      "Epoch = 1, Time = 29340.798395, Train Loss: 6788.13, Test Loss: 1359.78, Train Accuracy: 51421449600.00%,Test Accuracy: 2040760000.00%\n",
      "Epoch = 1, Time = 29669.033953, Train Loss: 6727.06, Test Loss: 1346.84, Train Accuracy: 52214203200.00%,Test Accuracy: 2068804800.00%\n",
      "Epoch = 1, Time = 29999.12651, Train Loss: 6726.71, Test Loss: 1346.57, Train Accuracy: 59791627200.00%,Test Accuracy: 2412353600.00%\n",
      "Epoch = 1, Time = 30328.963734, Train Loss: 6744.13, Test Loss: 1351.08, Train Accuracy: 56580600000.00%,Test Accuracy: 2224553600.00%\n",
      "Epoch = 1, Time = 30659.496127, Train Loss: 6715.32, Test Loss: 1345.12, Train Accuracy: 61392139200.00%,Test Accuracy: 2456924800.00%\n"
     ]
    }
   ],
   "source": [
    "for i in range(5):\n",
    "    start = datetime.now()\n",
    "    \n",
    "    for batchX,batchY in iter(train_loader):\n",
    "\n",
    "        batchX, batchY = batchX.to(device), batchY.to(device)\n",
    "\n",
    "        optimizer.zero_grad()\n",
    "        m1,m2 = model(batchX)\n",
    "        loss1 = criterion(m1,batchY)\n",
    "        loss2 = criterion(m2,batchY)\n",
    "\n",
    "        total_loss = loss1+loss2\n",
    "        total_loss.backward()\n",
    "        optimizer.step()\n",
    "\n",
    "        end = datetime.now()\n",
    "        time = (end-start).total_seconds()\n",
    "        book_keeping(i,time,model)"
   ]
  },
  {
   "cell_type": "code",
   "execution_count": 40,
   "metadata": {},
   "outputs": [],
   "source": [
    "class block1(t.nn.Module):\n",
    "    def __init__(self,ni):\n",
    "        super(block1, self).__init__()\n",
    "        self.conv1 = t.nn.Conv2d(ni, ni, 1)\n",
    "        self.conv2 = t.nn.Conv2d(ni, ni, 3, 1, 1)\n",
    "        self.classifier = t.nn.Linear(ni*24*24,751)\n",
    "\n",
    "    def forward(self,x):\n",
    "        residual = x\n",
    "        out = F.relu(self.conv1(x))\n",
    "        out = F.relu(self.conv2(out))\n",
    "        \n",
    "        out += residual\n",
    "        \n",
    "        out = out.view(out.size(0),-1)\n",
    "        return self.classifier(out)\n",
    "\n",
    "block = block1(16)\n",
    "x = t.randn(1, 16, 24, 24)\n",
    "output = block(x)"
   ]
  },
  {
   "cell_type": "code",
   "execution_count": 42,
   "metadata": {},
   "outputs": [
    {
     "data": {
      "text/plain": [
       "block1(\n",
       "  (conv1): Conv2d(16, 16, kernel_size=(1, 1), stride=(1, 1))\n",
       "  (conv2): Conv2d(16, 16, kernel_size=(3, 3), stride=(1, 1), padding=(1, 1))\n",
       "  (classifier): Linear(in_features=9216, out_features=751, bias=True)\n",
       ")"
      ]
     },
     "execution_count": 42,
     "metadata": {},
     "output_type": "execute_result"
    }
   ],
   "source": [
    "block"
   ]
  },
  {
   "cell_type": "code",
   "execution_count": 44,
   "metadata": {},
   "outputs": [
    {
     "data": {
      "image/svg+xml": [
       "<?xml version=\"1.0\" encoding=\"UTF-8\" standalone=\"no\"?>\n",
       "<!DOCTYPE svg PUBLIC \"-//W3C//DTD SVG 1.1//EN\"\n",
       " \"http://www.w3.org/Graphics/SVG/1.1/DTD/svg11.dtd\">\n",
       "<!-- Generated by graphviz version 2.40.1 (20161225.0304)\n",
       " -->\n",
       "<!-- Title: %3 Pages: 1 -->\n",
       "<svg width=\"358pt\" height=\"480pt\"\n",
       " viewBox=\"0.00 0.00 358.00 480.00\" xmlns=\"http://www.w3.org/2000/svg\" xmlns:xlink=\"http://www.w3.org/1999/xlink\">\n",
       "<g id=\"graph0\" class=\"graph\" transform=\"scale(1 1) rotate(0) translate(4 476)\">\n",
       "<title>%3</title>\n",
       "<polygon fill=\"#ffffff\" stroke=\"transparent\" points=\"-4,4 -4,-476 354,-476 354,4 -4,4\"/>\n",
       "<!-- 140559134888176 -->\n",
       "<g id=\"node1\" class=\"node\">\n",
       "<title>140559134888176</title>\n",
       "<polygon fill=\"#caff70\" stroke=\"#000000\" points=\"247.5,-21 143.5,-21 143.5,0 247.5,0 247.5,-21\"/>\n",
       "<text text-anchor=\"middle\" x=\"195.5\" y=\"-7.4\" font-family=\"Times,serif\" font-size=\"12.00\" fill=\"#000000\">AddmmBackward</text>\n",
       "</g>\n",
       "<!-- 140559134888848 -->\n",
       "<g id=\"node2\" class=\"node\">\n",
       "<title>140559134888848</title>\n",
       "<polygon fill=\"#add8e6\" stroke=\"#000000\" points=\"131.5,-91 51.5,-91 51.5,-57 131.5,-57 131.5,-91\"/>\n",
       "<text text-anchor=\"middle\" x=\"91.5\" y=\"-77.4\" font-family=\"Times,serif\" font-size=\"12.00\" fill=\"#000000\">classifier.bias</text>\n",
       "<text text-anchor=\"middle\" x=\"91.5\" y=\"-64.4\" font-family=\"Times,serif\" font-size=\"12.00\" fill=\"#000000\"> (751)</text>\n",
       "</g>\n",
       "<!-- 140559134888848&#45;&gt;140559134888176 -->\n",
       "<g id=\"edge1\" class=\"edge\">\n",
       "<title>140559134888848&#45;&gt;140559134888176</title>\n",
       "<path fill=\"none\" stroke=\"#000000\" d=\"M119.3701,-56.9832C134.8164,-47.552 153.9125,-35.8924 169.1151,-26.61\"/>\n",
       "<polygon fill=\"#000000\" stroke=\"#000000\" points=\"171.2993,-29.3772 178.0103,-21.1788 167.6515,-23.4028 171.2993,-29.3772\"/>\n",
       "</g>\n",
       "<!-- 140559134888288 -->\n",
       "<g id=\"node3\" class=\"node\">\n",
       "<title>140559134888288</title>\n",
       "<polygon fill=\"#d3d3d3\" stroke=\"#000000\" points=\"241.5,-84.5 149.5,-84.5 149.5,-63.5 241.5,-63.5 241.5,-84.5\"/>\n",
       "<text text-anchor=\"middle\" x=\"195.5\" y=\"-70.9\" font-family=\"Times,serif\" font-size=\"12.00\" fill=\"#000000\">ViewBackward</text>\n",
       "</g>\n",
       "<!-- 140559134888288&#45;&gt;140559134888176 -->\n",
       "<g id=\"edge2\" class=\"edge\">\n",
       "<title>140559134888288&#45;&gt;140559134888176</title>\n",
       "<path fill=\"none\" stroke=\"#000000\" d=\"M195.5,-63.2281C195.5,-54.5091 195.5,-41.9699 195.5,-31.3068\"/>\n",
       "<polygon fill=\"#000000\" stroke=\"#000000\" points=\"199.0001,-31.1128 195.5,-21.1128 192.0001,-31.1129 199.0001,-31.1128\"/>\n",
       "</g>\n",
       "<!-- 140559134888232 -->\n",
       "<g id=\"node4\" class=\"node\">\n",
       "<title>140559134888232</title>\n",
       "<polygon fill=\"#d3d3d3\" stroke=\"#000000\" points=\"238.5,-154.5 146.5,-154.5 146.5,-133.5 238.5,-133.5 238.5,-154.5\"/>\n",
       "<text text-anchor=\"middle\" x=\"192.5\" y=\"-140.9\" font-family=\"Times,serif\" font-size=\"12.00\" fill=\"#000000\">AddBackward0</text>\n",
       "</g>\n",
       "<!-- 140559134888232&#45;&gt;140559134888288 -->\n",
       "<g id=\"edge3\" class=\"edge\">\n",
       "<title>140559134888232&#45;&gt;140559134888288</title>\n",
       "<path fill=\"none\" stroke=\"#000000\" d=\"M192.9556,-133.3685C193.3917,-123.1925 194.0617,-107.5606 194.6047,-94.8912\"/>\n",
       "<polygon fill=\"#000000\" stroke=\"#000000\" points=\"198.1086,-94.8723 195.0401,-84.7315 191.115,-94.5725 198.1086,-94.8723\"/>\n",
       "</g>\n",
       "<!-- 140559134888400 -->\n",
       "<g id=\"node5\" class=\"node\">\n",
       "<title>140559134888400</title>\n",
       "<polygon fill=\"#d3d3d3\" stroke=\"#000000\" points=\"239.5,-218 145.5,-218 145.5,-197 239.5,-197 239.5,-218\"/>\n",
       "<text text-anchor=\"middle\" x=\"192.5\" y=\"-204.4\" font-family=\"Times,serif\" font-size=\"12.00\" fill=\"#000000\">ReluBackward0</text>\n",
       "</g>\n",
       "<!-- 140559134888400&#45;&gt;140559134888232 -->\n",
       "<g id=\"edge4\" class=\"edge\">\n",
       "<title>140559134888400&#45;&gt;140559134888232</title>\n",
       "<path fill=\"none\" stroke=\"#000000\" d=\"M192.5,-196.7281C192.5,-188.0091 192.5,-175.4699 192.5,-164.8068\"/>\n",
       "<polygon fill=\"#000000\" stroke=\"#000000\" points=\"196.0001,-164.6128 192.5,-154.6128 189.0001,-164.6129 196.0001,-164.6128\"/>\n",
       "</g>\n",
       "<!-- 140559134889072 -->\n",
       "<g id=\"node6\" class=\"node\">\n",
       "<title>140559134889072</title>\n",
       "<polygon fill=\"#d3d3d3\" stroke=\"#000000\" points=\"273.5,-275 111.5,-275 111.5,-254 273.5,-254 273.5,-275\"/>\n",
       "<text text-anchor=\"middle\" x=\"192.5\" y=\"-261.4\" font-family=\"Times,serif\" font-size=\"12.00\" fill=\"#000000\">MkldnnConvolutionBackward</text>\n",
       "</g>\n",
       "<!-- 140559134889072&#45;&gt;140559134888400 -->\n",
       "<g id=\"edge5\" class=\"edge\">\n",
       "<title>140559134889072&#45;&gt;140559134888400</title>\n",
       "<path fill=\"none\" stroke=\"#000000\" d=\"M192.5,-253.7787C192.5,-246.6134 192.5,-236.9517 192.5,-228.3097\"/>\n",
       "<polygon fill=\"#000000\" stroke=\"#000000\" points=\"196.0001,-228.1732 192.5,-218.1732 189.0001,-228.1732 196.0001,-228.1732\"/>\n",
       "</g>\n",
       "<!-- 140559134889128 -->\n",
       "<g id=\"node7\" class=\"node\">\n",
       "<title>140559134889128</title>\n",
       "<polygon fill=\"#d3d3d3\" stroke=\"#000000\" points=\"133.5,-338.5 39.5,-338.5 39.5,-317.5 133.5,-317.5 133.5,-338.5\"/>\n",
       "<text text-anchor=\"middle\" x=\"86.5\" y=\"-324.9\" font-family=\"Times,serif\" font-size=\"12.00\" fill=\"#000000\">ReluBackward0</text>\n",
       "</g>\n",
       "<!-- 140559134889128&#45;&gt;140559134889072 -->\n",
       "<g id=\"edge6\" class=\"edge\">\n",
       "<title>140559134889128&#45;&gt;140559134889072</title>\n",
       "<path fill=\"none\" stroke=\"#000000\" d=\"M104.4815,-317.2281C121.4106,-307.0866 146.9677,-291.7764 166.1884,-280.2622\"/>\n",
       "<polygon fill=\"#000000\" stroke=\"#000000\" points=\"168.0043,-283.2544 174.7841,-275.1128 164.4069,-277.2494 168.0043,-283.2544\"/>\n",
       "</g>\n",
       "<!-- 140559134889408 -->\n",
       "<g id=\"node8\" class=\"node\">\n",
       "<title>140559134889408</title>\n",
       "<polygon fill=\"#d3d3d3\" stroke=\"#000000\" points=\"167.5,-402 5.5,-402 5.5,-381 167.5,-381 167.5,-402\"/>\n",
       "<text text-anchor=\"middle\" x=\"86.5\" y=\"-388.4\" font-family=\"Times,serif\" font-size=\"12.00\" fill=\"#000000\">MkldnnConvolutionBackward</text>\n",
       "</g>\n",
       "<!-- 140559134889408&#45;&gt;140559134889128 -->\n",
       "<g id=\"edge7\" class=\"edge\">\n",
       "<title>140559134889408&#45;&gt;140559134889128</title>\n",
       "<path fill=\"none\" stroke=\"#000000\" d=\"M86.5,-380.7281C86.5,-372.0091 86.5,-359.4699 86.5,-348.8068\"/>\n",
       "<polygon fill=\"#000000\" stroke=\"#000000\" points=\"90.0001,-348.6128 86.5,-338.6128 83.0001,-348.6129 90.0001,-348.6128\"/>\n",
       "</g>\n",
       "<!-- 140559134889520 -->\n",
       "<g id=\"node9\" class=\"node\">\n",
       "<title>140559134889520</title>\n",
       "<polygon fill=\"#add8e6\" stroke=\"#000000\" points=\"81,-472 0,-472 0,-438 81,-438 81,-472\"/>\n",
       "<text text-anchor=\"middle\" x=\"40.5\" y=\"-458.4\" font-family=\"Times,serif\" font-size=\"12.00\" fill=\"#000000\">conv1.weight</text>\n",
       "<text text-anchor=\"middle\" x=\"40.5\" y=\"-445.4\" font-family=\"Times,serif\" font-size=\"12.00\" fill=\"#000000\"> (16, 16, 1, 1)</text>\n",
       "</g>\n",
       "<!-- 140559134889520&#45;&gt;140559134889408 -->\n",
       "<g id=\"edge8\" class=\"edge\">\n",
       "<title>140559134889520&#45;&gt;140559134889408</title>\n",
       "<path fill=\"none\" stroke=\"#000000\" d=\"M52.8272,-437.9832C58.9107,-429.5853 66.2742,-419.4204 72.5621,-410.7404\"/>\n",
       "<polygon fill=\"#000000\" stroke=\"#000000\" points=\"75.5945,-412.5204 78.6266,-402.3687 69.9256,-408.4138 75.5945,-412.5204\"/>\n",
       "</g>\n",
       "<!-- 140559134889576 -->\n",
       "<g id=\"node10\" class=\"node\">\n",
       "<title>140559134889576</title>\n",
       "<polygon fill=\"#add8e6\" stroke=\"#000000\" points=\"167.5,-472 99.5,-472 99.5,-438 167.5,-438 167.5,-472\"/>\n",
       "<text text-anchor=\"middle\" x=\"133.5\" y=\"-458.4\" font-family=\"Times,serif\" font-size=\"12.00\" fill=\"#000000\">conv1.bias</text>\n",
       "<text text-anchor=\"middle\" x=\"133.5\" y=\"-445.4\" font-family=\"Times,serif\" font-size=\"12.00\" fill=\"#000000\"> (16)</text>\n",
       "</g>\n",
       "<!-- 140559134889576&#45;&gt;140559134889408 -->\n",
       "<g id=\"edge9\" class=\"edge\">\n",
       "<title>140559134889576&#45;&gt;140559134889408</title>\n",
       "<path fill=\"none\" stroke=\"#000000\" d=\"M120.9049,-437.9832C114.6237,-429.4969 107.0069,-419.2062 100.5384,-410.4668\"/>\n",
       "<polygon fill=\"#000000\" stroke=\"#000000\" points=\"103.3071,-408.3243 94.5445,-402.3687 97.6806,-412.4888 103.3071,-408.3243\"/>\n",
       "</g>\n",
       "<!-- 140559134889240 -->\n",
       "<g id=\"node11\" class=\"node\">\n",
       "<title>140559134889240</title>\n",
       "<polygon fill=\"#add8e6\" stroke=\"#000000\" points=\"233,-345 152,-345 152,-311 233,-311 233,-345\"/>\n",
       "<text text-anchor=\"middle\" x=\"192.5\" y=\"-331.4\" font-family=\"Times,serif\" font-size=\"12.00\" fill=\"#000000\">conv2.weight</text>\n",
       "<text text-anchor=\"middle\" x=\"192.5\" y=\"-318.4\" font-family=\"Times,serif\" font-size=\"12.00\" fill=\"#000000\"> (16, 16, 3, 3)</text>\n",
       "</g>\n",
       "<!-- 140559134889240&#45;&gt;140559134889072 -->\n",
       "<g id=\"edge10\" class=\"edge\">\n",
       "<title>140559134889240&#45;&gt;140559134889072</title>\n",
       "<path fill=\"none\" stroke=\"#000000\" d=\"M192.5,-310.9832C192.5,-303.1157 192.5,-293.6973 192.5,-285.4019\"/>\n",
       "<polygon fill=\"#000000\" stroke=\"#000000\" points=\"196.0001,-285.3686 192.5,-275.3687 189.0001,-285.3687 196.0001,-285.3686\"/>\n",
       "</g>\n",
       "<!-- 140559134889296 -->\n",
       "<g id=\"node12\" class=\"node\">\n",
       "<title>140559134889296</title>\n",
       "<polygon fill=\"#add8e6\" stroke=\"#000000\" points=\"319.5,-345 251.5,-345 251.5,-311 319.5,-311 319.5,-345\"/>\n",
       "<text text-anchor=\"middle\" x=\"285.5\" y=\"-331.4\" font-family=\"Times,serif\" font-size=\"12.00\" fill=\"#000000\">conv2.bias</text>\n",
       "<text text-anchor=\"middle\" x=\"285.5\" y=\"-318.4\" font-family=\"Times,serif\" font-size=\"12.00\" fill=\"#000000\"> (16)</text>\n",
       "</g>\n",
       "<!-- 140559134889296&#45;&gt;140559134889072 -->\n",
       "<g id=\"edge11\" class=\"edge\">\n",
       "<title>140559134889296&#45;&gt;140559134889072</title>\n",
       "<path fill=\"none\" stroke=\"#000000\" d=\"M260.5777,-310.9832C246.8955,-301.641 230.0107,-290.1122 216.4799,-280.8734\"/>\n",
       "<polygon fill=\"#000000\" stroke=\"#000000\" points=\"218.372,-277.9273 208.1398,-275.1788 214.4248,-283.7082 218.372,-277.9273\"/>\n",
       "</g>\n",
       "<!-- 140559134888064 -->\n",
       "<g id=\"node13\" class=\"node\">\n",
       "<title>140559134888064</title>\n",
       "<polygon fill=\"#d3d3d3\" stroke=\"#000000\" points=\"338,-84.5 265,-84.5 265,-63.5 338,-63.5 338,-84.5\"/>\n",
       "<text text-anchor=\"middle\" x=\"301.5\" y=\"-70.9\" font-family=\"Times,serif\" font-size=\"12.00\" fill=\"#000000\">TBackward</text>\n",
       "</g>\n",
       "<!-- 140559134888064&#45;&gt;140559134888176 -->\n",
       "<g id=\"edge12\" class=\"edge\">\n",
       "<title>140559134888064&#45;&gt;140559134888176</title>\n",
       "<path fill=\"none\" stroke=\"#000000\" d=\"M283.5185,-63.2281C266.5894,-53.0866 241.0323,-37.7764 221.8116,-26.2622\"/>\n",
       "<polygon fill=\"#000000\" stroke=\"#000000\" points=\"223.5931,-23.2494 213.2159,-21.1128 219.9957,-29.2544 223.5931,-23.2494\"/>\n",
       "</g>\n",
       "<!-- 140559134888624 -->\n",
       "<g id=\"node14\" class=\"node\">\n",
       "<title>140559134888624</title>\n",
       "<polygon fill=\"#add8e6\" stroke=\"#000000\" points=\"350,-161 257,-161 257,-127 350,-127 350,-161\"/>\n",
       "<text text-anchor=\"middle\" x=\"303.5\" y=\"-147.4\" font-family=\"Times,serif\" font-size=\"12.00\" fill=\"#000000\">classifier.weight</text>\n",
       "<text text-anchor=\"middle\" x=\"303.5\" y=\"-134.4\" font-family=\"Times,serif\" font-size=\"12.00\" fill=\"#000000\"> (751, 9216)</text>\n",
       "</g>\n",
       "<!-- 140559134888624&#45;&gt;140559134888064 -->\n",
       "<g id=\"edge13\" class=\"edge\">\n",
       "<title>140559134888624&#45;&gt;140559134888064</title>\n",
       "<path fill=\"none\" stroke=\"#000000\" d=\"M303.0056,-126.6966C302.7304,-117.0634 302.3858,-105.003 302.0958,-94.8518\"/>\n",
       "<polygon fill=\"#000000\" stroke=\"#000000\" points=\"305.5926,-94.6872 301.8083,-84.7913 298.5954,-94.8872 305.5926,-94.6872\"/>\n",
       "</g>\n",
       "</g>\n",
       "</svg>\n"
      ],
      "text/plain": [
       "<graphviz.dot.Digraph at 0x7fd6808f26a0>"
      ]
     },
     "execution_count": 44,
     "metadata": {},
     "output_type": "execute_result"
    }
   ],
   "source": [
    "make_dot(block(x), params=dict(block.named_parameters()))"
   ]
  },
  {
   "cell_type": "code",
   "execution_count": null,
   "metadata": {},
   "outputs": [],
   "source": []
  }
 ],
 "metadata": {
  "kernelspec": {
   "display_name": "Python 3",
   "language": "python",
   "name": "python3"
  },
  "language_info": {
   "codemirror_mode": {
    "name": "ipython",
    "version": 3
   },
   "file_extension": ".py",
   "mimetype": "text/x-python",
   "name": "python",
   "nbconvert_exporter": "python",
   "pygments_lexer": "ipython3",
   "version": "3.6.7"
  }
 },
 "nbformat": 4,
 "nbformat_minor": 2
}
